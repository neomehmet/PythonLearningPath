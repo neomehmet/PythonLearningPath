{
 "cells": [
  {
   "cell_type": "code",
   "execution_count": 15,
   "id": "92419e43",
   "metadata": {},
   "outputs": [
    {
     "name": "stdout",
     "output_type": "stream",
     "text": [
      " enter first number10\n",
      "enter second number2\n",
      "enter the operation to do*\n"
     ]
    },
    {
     "data": {
      "text/plain": [
       "'10 * 2 = 20'"
      ]
     },
     "execution_count": 15,
     "metadata": {},
     "output_type": "execute_result"
    }
   ],
   "source": [
    "def calcut(numb1, numb2, op):\n",
    "    if op == \"+\":\n",
    "        return (str(numb1) + \" + \" + str(numb2) + \" = \" + str(numb1+numb2))\n",
    "    elif op == \"-\":\n",
    "        return (str(numb1) + \" - \" + str(numb2) + \" = \" + str(numb1-numb2))\n",
    "    elif op == \"*\":\n",
    "        return (str(numb1) + \" * \" + str(numb2) + \" = \" + str(numb1*numb2))\n",
    "    elif op == \"/\":\n",
    "        return (str(numb1) + \" / \" + str(numb2) + \" = \" + str(numb1/numb2))\n",
    "    else:\n",
    "        return (\"Error\")\n",
    "    \n",
    "numberOne = input(\" enter first number\")\n",
    "numberTwo = input(\"enter second number\")\n",
    "operationq = input(\"enter the operation to do\")\n",
    "\n",
    "calcut(int(numberOne), int(numberTwo), operationq)"
   ]
  },
  {
   "cell_type": "code",
   "execution_count": null,
   "id": "23ac89a3",
   "metadata": {},
   "outputs": [],
   "source": []
  },
  {
   "cell_type": "code",
   "execution_count": null,
   "id": "2c7d6878",
   "metadata": {},
   "outputs": [],
   "source": []
  }
 ],
 "metadata": {
  "kernelspec": {
   "display_name": "Python 3 (ipykernel)",
   "language": "python",
   "name": "python3"
  },
  "language_info": {
   "codemirror_mode": {
    "name": "ipython",
    "version": 3
   },
   "file_extension": ".py",
   "mimetype": "text/x-python",
   "name": "python",
   "nbconvert_exporter": "python",
   "pygments_lexer": "ipython3",
   "version": "3.9.13"
  }
 },
 "nbformat": 4,
 "nbformat_minor": 5
}
