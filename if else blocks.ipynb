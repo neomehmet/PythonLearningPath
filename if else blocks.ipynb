{
 "cells": [
  {
   "cell_type": "code",
   "execution_count": 1,
   "id": "a45680b9",
   "metadata": {},
   "outputs": [
    {
     "name": "stdout",
     "output_type": "stream",
     "text": [
      " inside of IF BLOCK\n",
      " still inside of the IF BLOCK  \n",
      "out of IF BLOCK\n"
     ]
    }
   ],
   "source": [
    "if 3 < 5:\n",
    "    print(\" inside of IF BLOCK\")\n",
    "    print(\" still inside of the IF BLOCK  \")\n",
    "print(\"out of IF BLOCK\")"
   ]
  },
  {
   "cell_type": "code",
   "execution_count": 3,
   "id": "8f312624",
   "metadata": {},
   "outputs": [
    {
     "name": "stdout",
     "output_type": "stream",
     "text": [
      "out of IF BLOCK\n"
     ]
    }
   ],
   "source": [
    "if 3 > 5:\n",
    "    print(\" inside of IF BLOCK\")\n",
    "    print(\" still inside of the IF BLOCK  \")\n",
    "print(\"out of IF BLOCK\")"
   ]
  },
  {
   "cell_type": "code",
   "execution_count": 4,
   "id": "12c3f449",
   "metadata": {},
   "outputs": [
    {
     "name": "stdout",
     "output_type": "stream",
     "text": [
      "gime me pass*\n",
      "a * b =  70\n"
     ]
    }
   ],
   "source": [
    "a=10\n",
    "b=7\n",
    "temp = input( \"gime me pass\")\n",
    "if \"+\" == temp :\n",
    "    print(\" a + b = \",a+b)\n",
    "elif \"-\" == temp:\n",
    "    print(\" a - b = \",a-b)\n",
    "else:\n",
    "    print(\"a * b = \",a*b)"
   ]
  },
  {
   "cell_type": "code",
   "execution_count": 5,
   "id": "62323c41",
   "metadata": {},
   "outputs": [
    {
     "name": "stdout",
     "output_type": "stream",
     "text": [
      "gime me passasd\n",
      "a * b =  70\n"
     ]
    }
   ],
   "source": [
    "a=10\n",
    "b=7\n",
    "temp = input( \"gime me pass\")\n",
    "if \"+\" == temp :\n",
    "    print(\" a + b = \",a+b)\n",
    "elif \"-\" == temp:\n",
    "    print(\" a - b = \",a-b)\n",
    "else:\n",
    "    print(\"a * b = \",a*b)"
   ]
  },
  {
   "cell_type": "code",
   "execution_count": 40,
   "id": "ee1e51f7",
   "metadata": {},
   "outputs": [
    {
     "name": "stdout",
     "output_type": "stream",
     "text": [
      "enter first value1\n",
      "enter second value4\n",
      "enter operation + or - if it isnot + or -, default calculates multiplying r\n",
      "a * b =  4\n"
     ]
    }
   ],
   "source": [
    "#basic calculator\n",
    "a = input(\"enter first value\")\n",
    "a = int(a)\n",
    "b = input(\"enter second value\")\n",
    "b = int(b)\n",
    "temp = input( \"enter operation + or - if it isnot + or -, default calculates multiplying \")\n",
    "if \"+\" == temp :\n",
    "    print(\" a + b = \",a+b)\n",
    "elif \"-\" == temp:\n",
    "    print(\" a - b = \",a-b)\n",
    "else:\n",
    "    print(\"a * b = \",a*b)\n",
    "    "
   ]
  },
  {
   "cell_type": "code",
   "execution_count": 39,
   "id": "ac1d7c09",
   "metadata": {},
   "outputs": [
    {
     "name": "stdout",
     "output_type": "stream",
     "text": [
      "enter the val14\n",
      " number at around 10\n"
     ]
    }
   ],
   "source": [
    "numb =input(\"enter the val\")\n",
    "numb = int(numb)\n",
    "if (numb > 5 and numb < 15)  :\n",
    "    print(\" number at around 10\")\n",
    "elif (numb > 15 and numb < 25) :\n",
    "    print(\" number at around 20\")\n",
    "else:\n",
    "    print(\"number not at around 10 ro 20\")\n"
   ]
  },
  {
   "cell_type": "code",
   "execution_count": 42,
   "id": "fc5541c7",
   "metadata": {},
   "outputs": [
    {
     "name": "stdout",
     "output_type": "stream",
     "text": [
      "it is in the list\n"
     ]
    }
   ],
   "source": [
    "aList = [1,2,3,3,4,5,6,6,7,7,12,12,13,14,15,\"a\",\"b\",\"asd\"]\n",
    "if 13 in aList:\n",
    "    print(\"it is in the list\")\n",
    "else:\n",
    "    print(\"it is not in the list\")"
   ]
  },
  {
   "cell_type": "code",
   "execution_count": 43,
   "id": "d2301bee",
   "metadata": {},
   "outputs": [],
   "source": [
    "aString = \"abc def gfh qwer asdf constantine\""
   ]
  },
  {
   "cell_type": "code",
   "execution_count": 52,
   "id": "a8df8142",
   "metadata": {},
   "outputs": [
    {
     "name": "stdout",
     "output_type": "stream",
     "text": [
      "it is in aString\n"
     ]
    }
   ],
   "source": [
    "if \"cons\" in aString:\n",
    "    print(\"it is in aString\")\n",
    "else:\n",
    "    printi(\"it is not \")"
   ]
  },
  {
   "cell_type": "code",
   "execution_count": 54,
   "id": "ac78a7e4",
   "metadata": {},
   "outputs": [
    {
     "name": "stdout",
     "output_type": "stream",
     "text": [
      "it is not \n"
     ]
    }
   ],
   "source": [
    "if \"qa\" in aString:\n",
    "    print(\"it is in aString\")\n",
    "else:\n",
    "    print(\"it is not \")"
   ]
  },
  {
   "cell_type": "code",
   "execution_count": null,
   "id": "ebc45fc0",
   "metadata": {},
   "outputs": [],
   "source": []
  }
 ],
 "metadata": {
  "kernelspec": {
   "display_name": "Python 3 (ipykernel)",
   "language": "python",
   "name": "python3"
  },
  "language_info": {
   "codemirror_mode": {
    "name": "ipython",
    "version": 3
   },
   "file_extension": ".py",
   "mimetype": "text/x-python",
   "name": "python",
   "nbconvert_exporter": "python",
   "pygments_lexer": "ipython3",
   "version": "3.9.13"
  }
 },
 "nbformat": 4,
 "nbformat_minor": 5
}
