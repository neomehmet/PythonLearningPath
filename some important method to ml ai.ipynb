{
 "cells": [
  {
   "cell_type": "code",
   "execution_count": 7,
   "id": "d8c0c7e4",
   "metadata": {},
   "outputs": [],
   "source": [
    "#range  \n",
    "myList = (1,2,3,4,5,6,7,8)\n",
    "rangeList = range(0,37,3)    #shift + tab  press one time to show using methods"
   ]
  },
  {
   "cell_type": "code",
   "execution_count": 8,
   "id": "926729ec",
   "metadata": {},
   "outputs": [
    {
     "data": {
      "text/plain": [
       "range(0, 37, 3)"
      ]
     },
     "execution_count": 8,
     "metadata": {},
     "output_type": "execute_result"
    }
   ],
   "source": [
    "rangeList"
   ]
  },
  {
   "cell_type": "code",
   "execution_count": 9,
   "id": "95ce566a",
   "metadata": {},
   "outputs": [
    {
     "name": "stdout",
     "output_type": "stream",
     "text": [
      "range(0, 37, 3)\n"
     ]
    }
   ],
   "source": [
    "print(rangeList)"
   ]
  },
  {
   "cell_type": "code",
   "execution_count": 10,
   "id": "202209e5",
   "metadata": {},
   "outputs": [
    {
     "name": "stdout",
     "output_type": "stream",
     "text": [
      "0\n",
      "3\n",
      "6\n",
      "9\n",
      "12\n",
      "15\n",
      "18\n",
      "21\n",
      "24\n",
      "27\n",
      "30\n",
      "33\n",
      "36\n"
     ]
    }
   ],
   "source": [
    "for i in rangeList:\n",
    "    print(i)"
   ]
  },
  {
   "cell_type": "code",
   "execution_count": 11,
   "id": "cd6d15f3",
   "metadata": {},
   "outputs": [
    {
     "name": "stdout",
     "output_type": "stream",
     "text": [
      "0\n",
      "2\n",
      "4\n",
      "6\n",
      "8\n",
      "10\n",
      "12\n",
      "14\n",
      "16\n"
     ]
    }
   ],
   "source": [
    "for element in list(range(9)):   ## here an example\n",
    "    print(element*2)"
   ]
  },
  {
   "cell_type": "code",
   "execution_count": 13,
   "id": "6ad9aa7f",
   "metadata": {},
   "outputs": [
    {
     "name": "stdout",
     "output_type": "stream",
     "text": [
      "current val : 5 current index :0\n",
      "current val : 6 current index :1\n",
      "current val : 7 current index :2\n",
      "current val : 8 current index :3\n",
      "current val : 9 current index :4\n",
      "current val : 10 current index :5\n",
      "current val : 11 current index :6\n",
      "current val : 12 current index :7\n",
      "current val : 13 current index :8\n",
      "current val : 14 current index :9\n"
     ]
    }
   ],
   "source": [
    "index = 0\n",
    "for numb in list(range(5,15)):\n",
    "    print(f\"current val : {numb} current index :{index}\")\n",
    "    index +=1"
   ]
  },
  {
   "cell_type": "code",
   "execution_count": 17,
   "id": "fc24c855",
   "metadata": {},
   "outputs": [
    {
     "name": "stdout",
     "output_type": "stream",
     "text": [
      " index: 0,  value:3\n",
      "0 3\n",
      " index: 1,  value:5\n",
      "1 5\n",
      " index: 2,  value:7\n",
      "2 7\n",
      " index: 3,  value:9\n",
      "3 9\n"
     ]
    }
   ],
   "source": [
    "for (index,value) in enumerate(list(range(3,10,2))):\n",
    "    print(f\" index: {index},  value:{value}\") #like a matris\n",
    "    print(index,value)"
   ]
  },
  {
   "cell_type": "code",
   "execution_count": null,
   "id": "70412c7c",
   "metadata": {},
   "outputs": [],
   "source": []
  }
 ],
 "metadata": {
  "kernelspec": {
   "display_name": "Python 3 (ipykernel)",
   "language": "python",
   "name": "python3"
  },
  "language_info": {
   "codemirror_mode": {
    "name": "ipython",
    "version": 3
   },
   "file_extension": ".py",
   "mimetype": "text/x-python",
   "name": "python",
   "nbconvert_exporter": "python",
   "pygments_lexer": "ipython3",
   "version": "3.9.13"
  }
 },
 "nbformat": 4,
 "nbformat_minor": 5
}
