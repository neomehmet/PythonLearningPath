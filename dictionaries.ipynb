{
 "cells": [
  {
   "cell_type": "code",
   "execution_count": 1,
   "id": "a5341690",
   "metadata": {},
   "outputs": [],
   "source": [
    "foods = [\"apple\",\"orange\",\"banane\",\"raspberry\"]\n",
    "calories = [100,200,300,100]"
   ]
  },
  {
   "cell_type": "code",
   "execution_count": 2,
   "id": "bbf806f4",
   "metadata": {},
   "outputs": [],
   "source": [
    "#dictionaries\n"
   ]
  },
  {
   "cell_type": "code",
   "execution_count": 3,
   "id": "13e29502",
   "metadata": {},
   "outputs": [],
   "source": [
    "foodCalories = { \"apple\" : 100, \"orange\" : 200, \"banana\" : 300, \"raspberry\": 100 }"
   ]
  },
  {
   "cell_type": "code",
   "execution_count": 4,
   "id": "326f11dc",
   "metadata": {},
   "outputs": [
    {
     "data": {
      "text/plain": [
       "dict"
      ]
     },
     "execution_count": 4,
     "metadata": {},
     "output_type": "execute_result"
    }
   ],
   "source": [
    "type(foodCalories)"
   ]
  },
  {
   "cell_type": "code",
   "execution_count": 5,
   "id": "969c7b0f",
   "metadata": {},
   "outputs": [
    {
     "data": {
      "text/plain": [
       "300"
      ]
     },
     "execution_count": 5,
     "metadata": {},
     "output_type": "execute_result"
    }
   ],
   "source": [
    "foodCalories[\"banana\"]"
   ]
  },
  {
   "cell_type": "code",
   "execution_count": 6,
   "id": "4dc178bc",
   "metadata": {},
   "outputs": [],
   "source": [
    "ascii = { \"a\":97, \"b\":98, \"c\":99} #some ascii"
   ]
  },
  {
   "cell_type": "code",
   "execution_count": 7,
   "id": "e2af52e9",
   "metadata": {},
   "outputs": [
    {
     "data": {
      "text/plain": [
       "99"
      ]
     },
     "execution_count": 7,
     "metadata": {},
     "output_type": "execute_result"
    }
   ],
   "source": [
    "ascii[\"c\"]"
   ]
  },
  {
   "cell_type": "code",
   "execution_count": 8,
   "id": "8c970931",
   "metadata": {},
   "outputs": [
    {
     "data": {
      "text/plain": [
       "dict_keys(['a', 'b', 'c'])"
      ]
     },
     "execution_count": 8,
     "metadata": {},
     "output_type": "execute_result"
    }
   ],
   "source": [
    "ascii.keys()"
   ]
  },
  {
   "cell_type": "code",
   "execution_count": 9,
   "id": "e072ca97",
   "metadata": {},
   "outputs": [
    {
     "data": {
      "text/plain": [
       "dict_values([97, 98, 99])"
      ]
     },
     "execution_count": 9,
     "metadata": {},
     "output_type": "execute_result"
    }
   ],
   "source": [
    "ascii.values()"
   ]
  },
  {
   "cell_type": "code",
   "execution_count": 10,
   "id": "567aa68a",
   "metadata": {},
   "outputs": [],
   "source": [
    "supperDict = { \"list\":[0,1,2,3], \"key2\":22, \"key3\":33 }"
   ]
  },
  {
   "cell_type": "code",
   "execution_count": 11,
   "id": "edd8d5cc",
   "metadata": {},
   "outputs": [
    {
     "data": {
      "text/plain": [
       "dict_keys(['list', 'key2', 'key3'])"
      ]
     },
     "execution_count": 11,
     "metadata": {},
     "output_type": "execute_result"
    }
   ],
   "source": [
    "supperDict.keys()"
   ]
  },
  {
   "cell_type": "code",
   "execution_count": 12,
   "id": "89022a3f",
   "metadata": {},
   "outputs": [
    {
     "data": {
      "text/plain": [
       "dict_values([[0, 1, 2, 3], 22, 33])"
      ]
     },
     "execution_count": 12,
     "metadata": {},
     "output_type": "execute_result"
    }
   ],
   "source": [
    "supperDict.values()"
   ]
  },
  {
   "cell_type": "code",
   "execution_count": 13,
   "id": "41875026",
   "metadata": {},
   "outputs": [
    {
     "data": {
      "text/plain": [
       "3"
      ]
     },
     "execution_count": 13,
     "metadata": {},
     "output_type": "execute_result"
    }
   ],
   "source": [
    "supperDict[\"list\"][3]"
   ]
  },
  {
   "cell_type": "code",
   "execution_count": null,
   "id": "344f7a7a",
   "metadata": {},
   "outputs": [],
   "source": []
  },
  {
   "cell_type": "code",
   "execution_count": null,
   "id": "a4a2cf9d",
   "metadata": {},
   "outputs": [],
   "source": []
  }
 ],
 "metadata": {
  "kernelspec": {
   "display_name": "Python 3 (ipykernel)",
   "language": "python",
   "name": "python3"
  },
  "language_info": {
   "codemirror_mode": {
    "name": "ipython",
    "version": 3
   },
   "file_extension": ".py",
   "mimetype": "text/x-python",
   "name": "python",
   "nbconvert_exporter": "python",
   "pygments_lexer": "ipython3",
   "version": "3.9.13"
  }
 },
 "nbformat": 4,
 "nbformat_minor": 5
}
