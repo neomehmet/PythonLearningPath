{
 "cells": [
  {
   "cell_type": "code",
   "execution_count": 2,
   "id": "5a77f49f",
   "metadata": {},
   "outputs": [],
   "source": [
    "#for, loop, while"
   ]
  },
  {
   "cell_type": "code",
   "execution_count": 3,
   "id": "2517dea5",
   "metadata": {},
   "outputs": [],
   "source": [
    "myList = [1,2,3,4,4,5]"
   ]
  },
  {
   "cell_type": "code",
   "execution_count": 51,
   "id": "cbe4b04c",
   "metadata": {},
   "outputs": [
    {
     "name": "stdout",
     "output_type": "stream",
     "text": [
      "1\n",
      "2\n",
      "3\n",
      "4\n",
      "4\n",
      "5\n"
     ]
    }
   ],
   "source": [
    "for i in myList:\n",
    "    print(i) \n"
   ]
  },
  {
   "cell_type": "code",
   "execution_count": 52,
   "id": "69ffce03",
   "metadata": {},
   "outputs": [
    {
     "name": "stdout",
     "output_type": "stream",
     "text": [
      "1\n",
      "2\n",
      "3\n",
      "5\n"
     ]
    }
   ],
   "source": [
    "for i in myList:\n",
    "    if i == 4:\n",
    "        continue\n",
    "    print(i)"
   ]
  },
  {
   "cell_type": "code",
   "execution_count": 56,
   "id": "beeb37f3",
   "metadata": {},
   "outputs": [
    {
     "name": "stdout",
     "output_type": "stream",
     "text": [
      "m\n",
      "e\n",
      "h\n",
      "m\n",
      "e\n",
      "t\n",
      " \n",
      "k\n",
      "o\n",
      "s\n",
      "e\n",
      " \n",
      "g\n",
      "t\n",
      "u\n"
     ]
    }
   ],
   "source": [
    "myStr = \"mehmet kose gtu electronic\"    \n",
    "for i in myStr:\n",
    "    print(i)"
   ]
  },
  {
   "cell_type": "code",
   "execution_count": 58,
   "id": "c8eb2faf",
   "metadata": {},
   "outputs": [
    {
     "name": "stdout",
     "output_type": "stream",
     "text": [
      "-9\n",
      "-8\n",
      "-7\n",
      "-6\n",
      "-5\n",
      "-5\n",
      "-9\n"
     ]
    }
   ],
   "source": [
    "myTuple = (1,2,3,4,5,5,1)\n",
    "for i in myTuple:  # tuple unmutable\n",
    "    print(i - 10)"
   ]
  },
  {
   "cell_type": "code",
   "execution_count": 59,
   "id": "c7b3cbb6",
   "metadata": {},
   "outputs": [
    {
     "data": {
      "text/plain": [
       "list"
      ]
     },
     "execution_count": 59,
     "metadata": {},
     "output_type": "execute_result"
    }
   ],
   "source": [
    "listOfTuple = [(1.1,11.1), (2.2,22.2),(123.123,456.456)]\n",
    "type(listOfTuple)"
   ]
  },
  {
   "cell_type": "code",
   "execution_count": 60,
   "id": "b2acfa47",
   "metadata": {},
   "outputs": [
    {
     "data": {
      "text/plain": [
       "tuple"
      ]
     },
     "execution_count": 60,
     "metadata": {},
     "output_type": "execute_result"
    }
   ],
   "source": [
    "type(listOfTuple[0])"
   ]
  },
  {
   "cell_type": "code",
   "execution_count": 61,
   "id": "0f402258",
   "metadata": {},
   "outputs": [
    {
     "name": "stdout",
     "output_type": "stream",
     "text": [
      "(1.1, 11.1)\n",
      "(2.2, 22.2)\n",
      "(123.123, 456.456)\n"
     ]
    }
   ],
   "source": [
    "for element in listOfTuple:\n",
    "    print(element)"
   ]
  },
  {
   "cell_type": "code",
   "execution_count": 62,
   "id": "068cc1fe",
   "metadata": {},
   "outputs": [
    {
     "name": "stdout",
     "output_type": "stream",
     "text": [
      "that is first element in index zero 1.1\n",
      "that is second element in first index 11.1\n",
      "that is first element in index zero 2.2\n",
      "that is second element in first index 22.2\n",
      "that is first element in index zero 123.123\n",
      "that is second element in first index 456.456\n"
     ]
    }
   ],
   "source": [
    "for element in listOfTuple:\n",
    "    print(\"that is first element in index zero\",element[0])\n",
    "    print(\"that is second element in first index\",element[1])"
   ]
  },
  {
   "cell_type": "code",
   "execution_count": 66,
   "id": "4dc7a6f6",
   "metadata": {},
   "outputs": [
    {
     "name": "stdout",
     "output_type": "stream",
     "text": [
      "('keyOneFSm', 1453)\n",
      "('keyTwoUtman', 1299)\n",
      "('keyThreeSuleymanFirst', 1526)\n",
      "keyOneFSm\n",
      "keyTwoUtman\n",
      "keyThreeSuleymanFirst\n",
      "1453\n",
      "1299\n",
      "1526\n"
     ]
    }
   ],
   "source": [
    "myDict  = {\"keyOneFSm\":1453, \"keyTwoUtman\":1299, \"keyThreeSuleymanFirst\":1526}\n",
    "for (i) in myDict.items():\n",
    "    print(i)\n",
    "for (key, value) in myDict.items():\n",
    "    print(key)\n",
    "for (key,value) in myDict.items():\n",
    "    print(value)"
   ]
  },
  {
   "cell_type": "code",
   "execution_count": 69,
   "id": "bef2faaa",
   "metadata": {},
   "outputs": [
    {
     "name": "stdout",
     "output_type": "stream",
     "text": [
      "1\n",
      "2\n",
      "3\n",
      "4\n"
     ]
    }
   ],
   "source": [
    "myList = [1,2,3,4,5,6,7,8,]\n",
    "for i in myList:\n",
    "    if i == 5 :\n",
    "        break\n",
    "    print(i)"
   ]
  },
  {
   "cell_type": "code",
   "execution_count": 70,
   "id": "6c03ee6a",
   "metadata": {},
   "outputs": [
    {
     "name": "stdout",
     "output_type": "stream",
     "text": [
      "1\n",
      "2\n",
      "3\n",
      "4\n",
      "6\n",
      "7\n",
      "8\n"
     ]
    }
   ],
   "source": [
    "for i in myList:\n",
    "    if i == 5 :\n",
    "        continue\n",
    "    print(i)"
   ]
  },
  {
   "cell_type": "code",
   "execution_count": 71,
   "id": "30525c7e",
   "metadata": {},
   "outputs": [],
   "source": [
    "for i in myList: \n",
    "    pass\n"
   ]
  },
  {
   "cell_type": "code",
   "execution_count": null,
   "id": "fdd9f441",
   "metadata": {},
   "outputs": [],
   "source": []
  }
 ],
 "metadata": {
  "kernelspec": {
   "display_name": "Python 3 (ipykernel)",
   "language": "python",
   "name": "python3"
  },
  "language_info": {
   "codemirror_mode": {
    "name": "ipython",
    "version": 3
   },
   "file_extension": ".py",
   "mimetype": "text/x-python",
   "name": "python",
   "nbconvert_exporter": "python",
   "pygments_lexer": "ipython3",
   "version": "3.9.13"
  }
 },
 "nbformat": 4,
 "nbformat_minor": 5
}
