{
 "cells": [
  {
   "cell_type": "code",
   "execution_count": 12,
   "id": "95e667dc",
   "metadata": {},
   "outputs": [
    {
     "name": "stdout",
     "output_type": "stream",
     "text": [
      "[1, 2, 3, 4, 5]\n"
     ]
    }
   ],
   "source": [
    "pyList = [1,2,3,4,5]\n",
    "print(pyList)"
   ]
  },
  {
   "cell_type": "code",
   "execution_count": 13,
   "id": "da6a35e4",
   "metadata": {},
   "outputs": [
    {
     "name": "stdout",
     "output_type": "stream",
     "text": [
      "[1, 2, 3, 4, 5, 6]\n"
     ]
    }
   ],
   "source": [
    "pyList.append(6)\n",
    "print(pyList)"
   ]
  },
  {
   "cell_type": "code",
   "execution_count": 20,
   "id": "20c7bcc2",
   "metadata": {},
   "outputs": [
    {
     "name": "stdout",
     "output_type": "stream",
     "text": [
      "['mehmet', 2, 3]\n"
     ]
    }
   ],
   "source": [
    "myList = [\"mehmet\",2,3]\n",
    "print(myList)\n"
   ]
  },
  {
   "cell_type": "code",
   "execution_count": 22,
   "id": "8890bcca",
   "metadata": {},
   "outputs": [
    {
     "data": {
      "text/plain": [
       "list"
      ]
     },
     "execution_count": 22,
     "metadata": {},
     "output_type": "execute_result"
    }
   ],
   "source": [
    "type(myList)\n"
   ]
  },
  {
   "cell_type": "code",
   "execution_count": 23,
   "id": "f8435c2d",
   "metadata": {},
   "outputs": [
    {
     "name": "stdout",
     "output_type": "stream",
     "text": [
      "3\n"
     ]
    }
   ],
   "source": [
    "print(len(myList))"
   ]
  },
  {
   "cell_type": "code",
   "execution_count": 24,
   "id": "9c9a3404",
   "metadata": {},
   "outputs": [],
   "source": [
    "myList[0] = 5"
   ]
  },
  {
   "cell_type": "code",
   "execution_count": 26,
   "id": "ef3d808d",
   "metadata": {},
   "outputs": [
    {
     "name": "stdout",
     "output_type": "stream",
     "text": [
      "[5, 2, 3]\n"
     ]
    }
   ],
   "source": [
    "print(myList)"
   ]
  },
  {
   "cell_type": "code",
   "execution_count": 30,
   "id": "8543ca0b",
   "metadata": {},
   "outputs": [
    {
     "name": "stdout",
     "output_type": "stream",
     "text": [
      "[5, 2, 3, 1, 2, 3, 4, 5, 6]\n"
     ]
    }
   ],
   "source": [
    "mergedList = myList + pyList\n",
    "print(mergedList)"
   ]
  },
  {
   "cell_type": "code",
   "execution_count": 33,
   "id": "956d503f",
   "metadata": {},
   "outputs": [
    {
     "name": "stdout",
     "output_type": "stream",
     "text": [
      "[5, 2, 3, 1, 2, 3, 4, 5, 6]\n"
     ]
    }
   ],
   "source": [
    "newList = mergedList\n",
    "print(newList)"
   ]
  },
  {
   "cell_type": "code",
   "execution_count": 48,
   "id": "f78fb917",
   "metadata": {},
   "outputs": [
    {
     "name": "stdout",
     "output_type": "stream",
     "text": [
      "[6, 5, 5, 4, 3, 3, 2, 2, 1]\n"
     ]
    }
   ],
   "source": [
    "newList.reverse()\n",
    "print(newList)"
   ]
  },
  {
   "cell_type": "code",
   "execution_count": 49,
   "id": "c3fd0c6e",
   "metadata": {},
   "outputs": [
    {
     "name": "stdout",
     "output_type": "stream",
     "text": [
      "[1, 2, 2, 3, 3, 4, 5, 5, 6]\n"
     ]
    }
   ],
   "source": [
    "newList.sort()\n",
    "print(newList)"
   ]
  },
  {
   "cell_type": "code",
   "execution_count": 51,
   "id": "5a1415cc",
   "metadata": {},
   "outputs": [
    {
     "name": "stdout",
     "output_type": "stream",
     "text": [
      "[]\n"
     ]
    }
   ],
   "source": [
    "newList.clear()\n",
    "print(newList)"
   ]
  },
  {
   "cell_type": "code",
   "execution_count": 55,
   "id": "6ce72e7c",
   "metadata": {},
   "outputs": [
    {
     "name": "stdout",
     "output_type": "stream",
     "text": [
      "[]\n"
     ]
    }
   ],
   "source": [
    "print(mergedList)"
   ]
  },
  {
   "cell_type": "code",
   "execution_count": 97,
   "id": "10e2531d",
   "metadata": {},
   "outputs": [
    {
     "name": "stdout",
     "output_type": "stream",
     "text": [
      "[5, 2, 3, 1, 2, 3, 4, 5, 6]\n"
     ]
    }
   ],
   "source": [
    "newList = [5, 2, 3, 1, 2, 3, 4, 5, 6]\n",
    "print(newList)"
   ]
  },
  {
   "cell_type": "code",
   "execution_count": 98,
   "id": "dc756a10",
   "metadata": {},
   "outputs": [
    {
     "name": "stdout",
     "output_type": "stream",
     "text": [
      "[5, 2, 1, 2, 3, 4, 5, 6]\n"
     ]
    }
   ],
   "source": [
    "newList.remove(3)\n",
    "print(newList) "
   ]
  },
  {
   "cell_type": "code",
   "execution_count": 99,
   "id": "09bbe182",
   "metadata": {},
   "outputs": [
    {
     "data": {
      "text/plain": [
       "'delete the first elemenet what is given'"
      ]
     },
     "execution_count": 99,
     "metadata": {},
     "output_type": "execute_result"
    }
   ],
   "source": [
    "'''delete the first elemenet what is given'''\n"
   ]
  },
  {
   "cell_type": "code",
   "execution_count": 100,
   "id": "83c55bf9",
   "metadata": {},
   "outputs": [
    {
     "data": {
      "text/plain": [
       "1"
      ]
     },
     "execution_count": 100,
     "metadata": {},
     "output_type": "execute_result"
    }
   ],
   "source": [
    "newList.count(3)\n"
   ]
  },
  {
   "cell_type": "code",
   "execution_count": 101,
   "id": "23cbb9e1",
   "metadata": {},
   "outputs": [
    {
     "data": {
      "text/plain": [
       "2"
      ]
     },
     "execution_count": 101,
     "metadata": {},
     "output_type": "execute_result"
    }
   ],
   "source": [
    "newList.count(5)"
   ]
  },
  {
   "cell_type": "code",
   "execution_count": 102,
   "id": "4d6be602",
   "metadata": {},
   "outputs": [],
   "source": [
    "newList.append(1453)"
   ]
  },
  {
   "cell_type": "code",
   "execution_count": 103,
   "id": "a913f378",
   "metadata": {},
   "outputs": [
    {
     "name": "stdout",
     "output_type": "stream",
     "text": [
      "[5, 2, 1, 2, 3, 4, 5, 6, 1453]\n"
     ]
    }
   ],
   "source": [
    "print(newList)"
   ]
  },
  {
   "cell_type": "code",
   "execution_count": 104,
   "id": "e24f8b97",
   "metadata": {},
   "outputs": [
    {
     "name": "stdout",
     "output_type": "stream",
     "text": [
      "[1, 2, 2, 3, 4, 5, 5, 6, 1453]\n"
     ]
    }
   ],
   "source": [
    "newList.sort()\n",
    "print(newList)"
   ]
  },
  {
   "cell_type": "code",
   "execution_count": 105,
   "id": "7b89029c",
   "metadata": {},
   "outputs": [
    {
     "data": {
      "text/plain": [
       "1453"
      ]
     },
     "execution_count": 105,
     "metadata": {},
     "output_type": "execute_result"
    }
   ],
   "source": [
    "newList.pop()"
   ]
  },
  {
   "cell_type": "code",
   "execution_count": 106,
   "id": "cfa7604e",
   "metadata": {},
   "outputs": [
    {
     "name": "stdout",
     "output_type": "stream",
     "text": [
      "[1, 2, 2, 3, 4, 5, 5, 6]\n"
     ]
    }
   ],
   "source": [
    "print(newList)"
   ]
  },
  {
   "cell_type": "code",
   "execution_count": 127,
   "id": "58b55572",
   "metadata": {},
   "outputs": [],
   "source": [
    "sumLists = newList + myList + pyList"
   ]
  },
  {
   "cell_type": "code",
   "execution_count": 128,
   "id": "69fc806b",
   "metadata": {},
   "outputs": [
    {
     "name": "stdout",
     "output_type": "stream",
     "text": [
      "[1, 2, 2, 3, 4, 5, 5, 6, 5, 2, 3, 1, 2, 3, 4, 5, 6]\n"
     ]
    }
   ],
   "source": [
    "print(sumLists)"
   ]
  },
  {
   "cell_type": "code",
   "execution_count": 129,
   "id": "44a0e9c1",
   "metadata": {},
   "outputs": [
    {
     "name": "stdout",
     "output_type": "stream",
     "text": [
      "[1, 1, 2, 2, 2, 2, 3, 3, 3, 4, 4, 5, 5, 5, 5, 6, 6]\n"
     ]
    }
   ],
   "source": [
    "sumLists.sort()\n",
    "print(sumLists)"
   ]
  },
  {
   "cell_type": "code",
   "execution_count": 130,
   "id": "266cfea1",
   "metadata": {},
   "outputs": [
    {
     "name": "stdout",
     "output_type": "stream",
     "text": [
      "[1, 1, 2, 2, 2, 3, 3, 3, 4, 4, 5, 5, 5, 5, 6, 6]\n"
     ]
    }
   ],
   "source": [
    "sumLists.remove(2)\n",
    "print(sumLists)"
   ]
  },
  {
   "cell_type": "code",
   "execution_count": 131,
   "id": "b3295f91",
   "metadata": {},
   "outputs": [
    {
     "name": "stdout",
     "output_type": "stream",
     "text": [
      "[6, 6, 5, 5, 5, 5, 4, 4, 3, 3, 3, 2, 2, 2, 1, 1]\n"
     ]
    }
   ],
   "source": [
    "sumLists.reverse()\n",
    "print(sumLists)"
   ]
  },
  {
   "cell_type": "code",
   "execution_count": 132,
   "id": "5434aeb3",
   "metadata": {},
   "outputs": [
    {
     "name": "stdout",
     "output_type": "stream",
     "text": [
      "6\n"
     ]
    }
   ],
   "source": [
    "variable = sumLists[1]\n",
    "print(variable)"
   ]
  },
  {
   "cell_type": "code",
   "execution_count": 133,
   "id": "653cd2e4",
   "metadata": {},
   "outputs": [
    {
     "name": "stdout",
     "output_type": "stream",
     "text": [
      "[111111, 6, 5, 5, 5, 5, 4, 4, 3, 3, 3, 2, 2, 2, 1, 1]\n"
     ]
    }
   ],
   "source": [
    "sumLists[0] = 111111\n",
    "print(sumLists)"
   ]
  },
  {
   "cell_type": "code",
   "execution_count": 134,
   "id": "e8123ba0",
   "metadata": {},
   "outputs": [
    {
     "name": "stdout",
     "output_type": "stream",
     "text": [
      "[111111, 6, 5, 5, 5, 5, 4, 4, 3, 3, 3, 2, 2, 2, 1, 1, 'constantine']\n"
     ]
    }
   ],
   "source": [
    "sumLists.append(\"constantine\")\n",
    "print(sumLists)"
   ]
  },
  {
   "cell_type": "code",
   "execution_count": 135,
   "id": "df43b29f",
   "metadata": {},
   "outputs": [
    {
     "name": "stdout",
     "output_type": "stream",
     "text": [
      "[[5, 2, 3], [1, 2, 2, 3, 4, 5, 5, 6], [111111, 6, 5, 5, 5, 5, 4, 4, 3, 3, 3, 2, 2, 2, 1, 1, 'constantine']]\n"
     ]
    }
   ],
   "source": [
    "nestedlist = [myList,newList,sumLists]\n",
    "print(nestedlist)"
   ]
  },
  {
   "cell_type": "code",
   "execution_count": 136,
   "id": "6d21abc8",
   "metadata": {},
   "outputs": [
    {
     "data": {
      "text/plain": [
       "list"
      ]
     },
     "execution_count": 136,
     "metadata": {},
     "output_type": "execute_result"
    }
   ],
   "source": [
    "type(nestedlist)"
   ]
  },
  {
   "cell_type": "code",
   "execution_count": 138,
   "id": "8e45a38f",
   "metadata": {},
   "outputs": [
    {
     "data": {
      "text/plain": [
       "[5, 2, 3]"
      ]
     },
     "execution_count": 138,
     "metadata": {},
     "output_type": "execute_result"
    }
   ],
   "source": [
    "nestedlist[0]"
   ]
  },
  {
   "cell_type": "code",
   "execution_count": 139,
   "id": "e9842648",
   "metadata": {},
   "outputs": [
    {
     "data": {
      "text/plain": [
       "[[5, 2, 3]]"
      ]
     },
     "execution_count": 139,
     "metadata": {},
     "output_type": "execute_result"
    }
   ],
   "source": [
    "nestedlist[0:1]"
   ]
  },
  {
   "cell_type": "code",
   "execution_count": 142,
   "id": "c9c0ba85",
   "metadata": {},
   "outputs": [
    {
     "data": {
      "text/plain": [
       "[[5, 2, 3], [1, 2, 2, 3, 4, 5, 5, 6]]"
      ]
     },
     "execution_count": 142,
     "metadata": {},
     "output_type": "execute_result"
    }
   ],
   "source": [
    "nestedlist[0:2]"
   ]
  },
  {
   "cell_type": "code",
   "execution_count": 144,
   "id": "af68f5d7",
   "metadata": {},
   "outputs": [
    {
     "data": {
      "text/plain": [
       "[111111, 6, 5, 5, 5, 5, 4, 4, 3, 3, 3, 2, 2, 2, 1, 1, 'constantine']"
      ]
     },
     "execution_count": 144,
     "metadata": {},
     "output_type": "execute_result"
    }
   ],
   "source": [
    "nestedlist[2]"
   ]
  },
  {
   "cell_type": "code",
   "execution_count": 145,
   "id": "3d8b8c93",
   "metadata": {},
   "outputs": [
    {
     "data": {
      "text/plain": [
       "[5, 2, 3]"
      ]
     },
     "execution_count": 145,
     "metadata": {},
     "output_type": "execute_result"
    }
   ],
   "source": [
    "nestedlist[0]\n"
   ]
  },
  {
   "cell_type": "code",
   "execution_count": 147,
   "id": "1615c6c3",
   "metadata": {},
   "outputs": [],
   "source": [
    "nestedlist[0][1]\n",
    "x = nestedlist[0][1]"
   ]
  },
  {
   "cell_type": "code",
   "execution_count": 149,
   "id": "245b609d",
   "metadata": {},
   "outputs": [
    {
     "name": "stdout",
     "output_type": "stream",
     "text": [
      "2 6\n"
     ]
    }
   ],
   "source": [
    "y = nestedlist[1][7]\n",
    "print(x,y)"
   ]
  },
  {
   "cell_type": "code",
   "execution_count": 150,
   "id": "39d51af6",
   "metadata": {},
   "outputs": [
    {
     "data": {
      "text/plain": [
       "[[5, 2, 3],\n",
       " [1, 2, 2, 3, 4, 5, 5, 6],\n",
       " [111111, 6, 5, 5, 5, 5, 4, 4, 3, 3, 3, 2, 2, 2, 1, 1, 'constantine']]"
      ]
     },
     "execution_count": 150,
     "metadata": {},
     "output_type": "execute_result"
    }
   ],
   "source": [
    "nestedlist"
   ]
  },
  {
   "cell_type": "code",
   "execution_count": 156,
   "id": "fc0be7f6",
   "metadata": {},
   "outputs": [
    {
     "data": {
      "text/plain": [
       "'constantine'"
      ]
     },
     "execution_count": 156,
     "metadata": {},
     "output_type": "execute_result"
    }
   ],
   "source": [
    "nestedlist[2][16]"
   ]
  },
  {
   "cell_type": "code",
   "execution_count": null,
   "id": "ff902318",
   "metadata": {},
   "outputs": [],
   "source": []
  }
 ],
 "metadata": {
  "kernelspec": {
   "display_name": "Python 3 (ipykernel)",
   "language": "python",
   "name": "python3"
  },
  "language_info": {
   "codemirror_mode": {
    "name": "ipython",
    "version": 3
   },
   "file_extension": ".py",
   "mimetype": "text/x-python",
   "name": "python",
   "nbconvert_exporter": "python",
   "pygments_lexer": "ipython3",
   "version": "3.9.13"
  }
 },
 "nbformat": 4,
 "nbformat_minor": 5
}
