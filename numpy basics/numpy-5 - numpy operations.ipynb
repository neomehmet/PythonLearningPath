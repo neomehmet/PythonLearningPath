{
 "cells": [
  {
   "cell_type": "code",
   "execution_count": 2,
   "id": "21e39ba5",
   "metadata": {},
   "outputs": [],
   "source": [
    "## operations\n",
    "## bool sum multiply"
   ]
  },
  {
   "cell_type": "code",
   "execution_count": 3,
   "id": "3a87b154",
   "metadata": {},
   "outputs": [],
   "source": [
    "import numpy as np"
   ]
  },
  {
   "cell_type": "code",
   "execution_count": 6,
   "id": "3036bd41",
   "metadata": {},
   "outputs": [],
   "source": [
    "arr = np.random.randint(1,100,30)"
   ]
  },
  {
   "cell_type": "code",
   "execution_count": 7,
   "id": "773e87df",
   "metadata": {},
   "outputs": [
    {
     "data": {
      "text/plain": [
       "array([80, 52, 71, 91, 98, 74, 21, 93,  2, 24, 34, 20, 93, 68, 57, 73, 21,\n",
       "       61, 62, 98, 88, 41, 57, 21, 74, 78, 28, 38, 38, 55])"
      ]
     },
     "execution_count": 7,
     "metadata": {},
     "output_type": "execute_result"
    }
   ],
   "source": [
    "arr"
   ]
  },
  {
   "cell_type": "code",
   "execution_count": 8,
   "id": "a46405d2",
   "metadata": {},
   "outputs": [
    {
     "data": {
      "text/plain": [
       "array([ True,  True,  True,  True,  True,  True, False,  True, False,\n",
       "       False, False, False,  True,  True,  True,  True, False,  True,\n",
       "        True,  True,  True, False,  True, False,  True,  True, False,\n",
       "       False, False,  True])"
      ]
     },
     "execution_count": 8,
     "metadata": {},
     "output_type": "execute_result"
    }
   ],
   "source": [
    "# lookfor particular elements\n",
    "arr > 50 "
   ]
  },
  {
   "cell_type": "code",
   "execution_count": 22,
   "id": "6f0f97c0",
   "metadata": {},
   "outputs": [],
   "source": [
    " newArr = arr < 50"
   ]
  },
  {
   "cell_type": "code",
   "execution_count": 23,
   "id": "8f94e0c4",
   "metadata": {},
   "outputs": [
    {
     "data": {
      "text/plain": [
       "array([21,  2, 24, 34, 20, 21, 41, 21, 28, 38, 38])"
      ]
     },
     "execution_count": 23,
     "metadata": {},
     "output_type": "execute_result"
    }
   ],
   "source": [
    "arr[newArr] # return elements that smaller then 50 # what an amazing thing for c coders "
   ]
  },
  {
   "cell_type": "code",
   "execution_count": 24,
   "id": "03e02cd6",
   "metadata": {},
   "outputs": [],
   "source": [
    "newArr = arr[newArr]"
   ]
  },
  {
   "cell_type": "code",
   "execution_count": 25,
   "id": "20ebff22",
   "metadata": {},
   "outputs": [
    {
     "data": {
      "text/plain": [
       "array([21,  2, 24, 34, 20, 21, 41, 21, 28, 38, 38])"
      ]
     },
     "execution_count": 25,
     "metadata": {},
     "output_type": "execute_result"
    }
   ],
   "source": [
    "newArr"
   ]
  },
  {
   "cell_type": "code",
   "execution_count": 26,
   "id": "58db76c3",
   "metadata": {},
   "outputs": [],
   "source": [
    "newArr[:] = 10000"
   ]
  },
  {
   "cell_type": "code",
   "execution_count": 27,
   "id": "db0bd376",
   "metadata": {},
   "outputs": [
    {
     "data": {
      "text/plain": [
       "array([80, 52, 71, 91, 98, 74, 21, 93,  2, 24, 34, 20, 93, 68, 57, 73, 21,\n",
       "       61, 62, 98, 88, 41, 57, 21, 74, 78, 28, 38, 38, 55])"
      ]
     },
     "execution_count": 27,
     "metadata": {},
     "output_type": "execute_result"
    }
   ],
   "source": [
    "arr"
   ]
  },
  {
   "cell_type": "code",
   "execution_count": 28,
   "id": "af36cfcc",
   "metadata": {},
   "outputs": [
    {
     "data": {
      "text/plain": [
       "array([10000, 10000, 10000, 10000, 10000, 10000, 10000, 10000, 10000,\n",
       "       10000, 10000])"
      ]
     },
     "execution_count": 28,
     "metadata": {},
     "output_type": "execute_result"
    }
   ],
   "source": [
    "newArr"
   ]
  },
  {
   "cell_type": "code",
   "execution_count": 29,
   "id": "868be1ec",
   "metadata": {},
   "outputs": [
    {
     "data": {
      "text/plain": [
       "array([160, 104, 142, 182, 196, 148,  42, 186,   4,  48,  68,  40, 186,\n",
       "       136, 114, 146,  42, 122, 124, 196, 176,  82, 114,  42, 148, 156,\n",
       "        56,  76,  76, 110])"
      ]
     },
     "execution_count": 29,
     "metadata": {},
     "output_type": "execute_result"
    }
   ],
   "source": [
    "arr + arr"
   ]
  },
  {
   "cell_type": "code",
   "execution_count": 30,
   "id": "26c78200",
   "metadata": {},
   "outputs": [
    {
     "data": {
      "text/plain": [
       "array([20000, 20000, 20000, 20000, 20000, 20000, 20000, 20000, 20000,\n",
       "       20000, 20000])"
      ]
     },
     "execution_count": 30,
     "metadata": {},
     "output_type": "execute_result"
    }
   ],
   "source": [
    "newArr + newArr"
   ]
  },
  {
   "cell_type": "code",
   "execution_count": 31,
   "id": "2cfed777",
   "metadata": {},
   "outputs": [
    {
     "data": {
      "text/plain": [
       "array([10000, 10000, 10000, 10000, 10000, 10000, 10000, 10000, 10000,\n",
       "       10000, 10000])"
      ]
     },
     "execution_count": 31,
     "metadata": {},
     "output_type": "execute_result"
    }
   ],
   "source": [
    "newArr"
   ]
  },
  {
   "cell_type": "code",
   "execution_count": 32,
   "id": "22f596db",
   "metadata": {},
   "outputs": [
    {
     "data": {
      "text/plain": [
       "array([80, 52, 71, 91, 98, 74, 21, 93,  2, 24, 34, 20, 93, 68, 57, 73, 21,\n",
       "       61, 62, 98, 88, 41, 57, 21, 74, 78, 28, 38, 38, 55])"
      ]
     },
     "execution_count": 32,
     "metadata": {},
     "output_type": "execute_result"
    }
   ],
   "source": [
    "arr"
   ]
  },
  {
   "cell_type": "code",
   "execution_count": 33,
   "id": "99ebe4c6",
   "metadata": {},
   "outputs": [
    {
     "data": {
      "text/plain": [
       "array([1., 1., 1., 1., 1., 1., 1., 1., 1., 1., 1., 1., 1., 1., 1., 1., 1.,\n",
       "       1., 1., 1., 1., 1., 1., 1., 1., 1., 1., 1., 1., 1.])"
      ]
     },
     "execution_count": 33,
     "metadata": {},
     "output_type": "execute_result"
    }
   ],
   "source": [
    "arr / arr"
   ]
  },
  {
   "cell_type": "code",
   "execution_count": 35,
   "id": "3d57bd15",
   "metadata": {},
   "outputs": [
    {
     "data": {
      "text/plain": [
       "array([0.08 , 0.052, 0.071, 0.091, 0.098, 0.074, 0.021, 0.093, 0.002,\n",
       "       0.024, 0.034, 0.02 , 0.093, 0.068, 0.057, 0.073, 0.021, 0.061,\n",
       "       0.062, 0.098, 0.088, 0.041, 0.057, 0.021, 0.074, 0.078, 0.028,\n",
       "       0.038, 0.038, 0.055])"
      ]
     },
     "execution_count": 35,
     "metadata": {},
     "output_type": "execute_result"
    }
   ],
   "source": [
    "arr / 1000"
   ]
  },
  {
   "cell_type": "code",
   "execution_count": 36,
   "id": "ffa30749",
   "metadata": {},
   "outputs": [
    {
     "data": {
      "text/plain": [
       "98"
      ]
     },
     "execution_count": 36,
     "metadata": {},
     "output_type": "execute_result"
    }
   ],
   "source": [
    "np.max(arr)"
   ]
  },
  {
   "cell_type": "code",
   "execution_count": 37,
   "id": "45a46cbe",
   "metadata": {},
   "outputs": [
    {
     "data": {
      "text/plain": [
       "2"
      ]
     },
     "execution_count": 37,
     "metadata": {},
     "output_type": "execute_result"
    }
   ],
   "source": [
    "np.min(arr)"
   ]
  },
  {
   "cell_type": "code",
   "execution_count": null,
   "id": "64f63cf1",
   "metadata": {},
   "outputs": [],
   "source": []
  },
  {
   "cell_type": "code",
   "execution_count": null,
   "id": "53c9f3e7",
   "metadata": {},
   "outputs": [],
   "source": [
    "# may find new things numpy.org"
   ]
  }
 ],
 "metadata": {
  "kernelspec": {
   "display_name": "Python 3 (ipykernel)",
   "language": "python",
   "name": "python3"
  },
  "language_info": {
   "codemirror_mode": {
    "name": "ipython",
    "version": 3
   },
   "file_extension": ".py",
   "mimetype": "text/x-python",
   "name": "python",
   "nbconvert_exporter": "python",
   "pygments_lexer": "ipython3",
   "version": "3.9.13"
  }
 },
 "nbformat": 4,
 "nbformat_minor": 5
}
