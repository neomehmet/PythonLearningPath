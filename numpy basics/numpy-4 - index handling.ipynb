{
 "cells": [
  {
   "cell_type": "code",
   "execution_count": 1,
   "id": "3a1930da",
   "metadata": {},
   "outputs": [],
   "source": [
    "import numpy as np"
   ]
  },
  {
   "cell_type": "code",
   "execution_count": 2,
   "id": "73e91d4b",
   "metadata": {},
   "outputs": [],
   "source": [
    "myArr = np.arange(0,15)"
   ]
  },
  {
   "cell_type": "code",
   "execution_count": 3,
   "id": "f92c5652",
   "metadata": {},
   "outputs": [
    {
     "data": {
      "text/plain": [
       "array([ 0,  1,  2,  3,  4,  5,  6,  7,  8,  9, 10, 11, 12, 13, 14])"
      ]
     },
     "execution_count": 3,
     "metadata": {},
     "output_type": "execute_result"
    }
   ],
   "source": [
    "myArr"
   ]
  },
  {
   "cell_type": "code",
   "execution_count": 4,
   "id": "3a7efb9a",
   "metadata": {},
   "outputs": [],
   "source": [
    "#slicing\n"
   ]
  },
  {
   "cell_type": "code",
   "execution_count": 5,
   "id": "82b6881e",
   "metadata": {},
   "outputs": [
    {
     "data": {
      "text/plain": [
       "array([3, 4])"
      ]
     },
     "execution_count": 5,
     "metadata": {},
     "output_type": "execute_result"
    }
   ],
   "source": [
    "myArr[3:5]"
   ]
  },
  {
   "cell_type": "code",
   "execution_count": 6,
   "id": "47b02724",
   "metadata": {},
   "outputs": [
    {
     "data": {
      "text/plain": [
       "array([4, 5, 6, 7, 8, 9])"
      ]
     },
     "execution_count": 6,
     "metadata": {},
     "output_type": "execute_result"
    }
   ],
   "source": [
    "myArr[4:10]"
   ]
  },
  {
   "cell_type": "code",
   "execution_count": 7,
   "id": "4834ac4b",
   "metadata": {},
   "outputs": [],
   "source": [
    "myArr[0:5] = -5"
   ]
  },
  {
   "cell_type": "code",
   "execution_count": 8,
   "id": "fe16686d",
   "metadata": {},
   "outputs": [
    {
     "data": {
      "text/plain": [
       "array([-5, -5, -5, -5, -5,  5,  6,  7,  8,  9, 10, 11, 12, 13, 14])"
      ]
     },
     "execution_count": 8,
     "metadata": {},
     "output_type": "execute_result"
    }
   ],
   "source": [
    "myArr"
   ]
  },
  {
   "cell_type": "code",
   "execution_count": 17,
   "id": "d37481d7",
   "metadata": {},
   "outputs": [],
   "source": [
    "Arr2 = np.arange(0,24)"
   ]
  },
  {
   "cell_type": "code",
   "execution_count": 18,
   "id": "1a10ac6f",
   "metadata": {},
   "outputs": [
    {
     "data": {
      "text/plain": [
       "array([ 0,  1,  2,  3,  4,  5,  6,  7,  8,  9, 10, 11, 12, 13, 14, 15, 16,\n",
       "       17, 18, 19, 20, 21, 22, 23])"
      ]
     },
     "execution_count": 18,
     "metadata": {},
     "output_type": "execute_result"
    }
   ],
   "source": [
    "Arr2"
   ]
  },
  {
   "cell_type": "code",
   "execution_count": 19,
   "id": "6b1413f3",
   "metadata": {},
   "outputs": [],
   "source": [
    "tempArr = Arr2[4:9]"
   ]
  },
  {
   "cell_type": "code",
   "execution_count": 20,
   "id": "9c911fec",
   "metadata": {},
   "outputs": [
    {
     "data": {
      "text/plain": [
       "array([4, 5, 6, 7, 8])"
      ]
     },
     "execution_count": 20,
     "metadata": {},
     "output_type": "execute_result"
    }
   ],
   "source": [
    "tempArr"
   ]
  },
  {
   "cell_type": "code",
   "execution_count": 21,
   "id": "ecdc2c91",
   "metadata": {
    "scrolled": true
   },
   "outputs": [
    {
     "data": {
      "text/plain": [
       "array([ 0,  1,  2,  3,  4,  5,  6,  7,  8,  9, 10, 11, 12, 13, 14, 15, 16,\n",
       "       17, 18, 19, 20, 21, 22, 23])"
      ]
     },
     "execution_count": 21,
     "metadata": {},
     "output_type": "execute_result"
    }
   ],
   "source": [
    "Arr2"
   ]
  },
  {
   "cell_type": "code",
   "execution_count": 23,
   "id": "7e677ee3",
   "metadata": {},
   "outputs": [],
   "source": [
    "tempArr[:] =+100 #do not tempArr = +- "
   ]
  },
  {
   "cell_type": "code",
   "execution_count": 24,
   "id": "95288148",
   "metadata": {},
   "outputs": [
    {
     "data": {
      "text/plain": [
       "array([100, 100, 100, 100, 100])"
      ]
     },
     "execution_count": 24,
     "metadata": {},
     "output_type": "execute_result"
    }
   ],
   "source": [
    "tempArr"
   ]
  },
  {
   "cell_type": "code",
   "execution_count": 25,
   "id": "80397f20",
   "metadata": {},
   "outputs": [
    {
     "data": {
      "text/plain": [
       "array([  0,   1,   2,   3, 100, 100, 100, 100, 100,   9,  10,  11,  12,\n",
       "        13,  14,  15,  16,  17,  18,  19,  20,  21,  22,  23])"
      ]
     },
     "execution_count": 25,
     "metadata": {},
     "output_type": "execute_result"
    }
   ],
   "source": [
    "Arr2 #vov original array is changed... caution !! there must be a pointer :) from C"
   ]
  },
  {
   "cell_type": "code",
   "execution_count": 26,
   "id": "0c9a7d6f",
   "metadata": {},
   "outputs": [
    {
     "data": {
      "text/plain": [
       "array([ 0,  1,  2,  3,  4,  5,  6,  7,  8,  9, 10, 11, 12, 13, 14, 15, 16,\n",
       "       17, 18, 19, 20, 21, 22, 23, 24])"
      ]
     },
     "execution_count": 26,
     "metadata": {},
     "output_type": "execute_result"
    }
   ],
   "source": [
    "Arr2 = np.arange(0,25)\n",
    "Arr2"
   ]
  },
  {
   "cell_type": "code",
   "execution_count": 27,
   "id": "f1797c11",
   "metadata": {},
   "outputs": [],
   "source": [
    "temp = Arr2.copy()"
   ]
  },
  {
   "cell_type": "code",
   "execution_count": 28,
   "id": "3a73cb0f",
   "metadata": {},
   "outputs": [
    {
     "data": {
      "text/plain": [
       "array([1000, 1000, 1000, 1000, 1000, 1000, 1000, 1000, 1000, 1000, 1000,\n",
       "       1000, 1000, 1000, 1000, 1000, 1000, 1000, 1000, 1000, 1000, 1000,\n",
       "       1000, 1000, 1000])"
      ]
     },
     "execution_count": 28,
     "metadata": {},
     "output_type": "execute_result"
    }
   ],
   "source": [
    "temp[:] = 1000\n",
    "temp"
   ]
  },
  {
   "cell_type": "code",
   "execution_count": 29,
   "id": "d557f8ad",
   "metadata": {},
   "outputs": [
    {
     "data": {
      "text/plain": [
       "array([ 0,  1,  2,  3,  4,  5,  6,  7,  8,  9, 10, 11, 12, 13, 14, 15, 16,\n",
       "       17, 18, 19, 20, 21, 22, 23, 24])"
      ]
     },
     "execution_count": 29,
     "metadata": {},
     "output_type": "execute_result"
    }
   ],
   "source": [
    "Arr2"
   ]
  },
  {
   "cell_type": "code",
   "execution_count": 30,
   "id": "ca9099bd",
   "metadata": {},
   "outputs": [],
   "source": [
    "#dimensions multidimesion arrays"
   ]
  },
  {
   "cell_type": "code",
   "execution_count": 31,
   "id": "64d7bb7f",
   "metadata": {},
   "outputs": [],
   "source": [
    "#matrix"
   ]
  },
  {
   "cell_type": "code",
   "execution_count": 39,
   "id": "73bb23a1",
   "metadata": {},
   "outputs": [],
   "source": [
    "matrix = [(1,2,3),(4,5,6),(7,8,9)] # normal list data type"
   ]
  },
  {
   "cell_type": "code",
   "execution_count": 40,
   "id": "6800780b",
   "metadata": {},
   "outputs": [
    {
     "data": {
      "text/plain": [
       "[(1, 2, 3), (4, 5, 6), (7, 8, 9)]"
      ]
     },
     "execution_count": 40,
     "metadata": {},
     "output_type": "execute_result"
    }
   ],
   "source": [
    "matrix"
   ]
  },
  {
   "cell_type": "code",
   "execution_count": 41,
   "id": "035bf577",
   "metadata": {},
   "outputs": [],
   "source": [
    "matrix = np.array(matrix) # to matrix"
   ]
  },
  {
   "cell_type": "code",
   "execution_count": 42,
   "id": "70f76098",
   "metadata": {},
   "outputs": [
    {
     "data": {
      "text/plain": [
       "array([[1, 2, 3],\n",
       "       [4, 5, 6],\n",
       "       [7, 8, 9]])"
      ]
     },
     "execution_count": 42,
     "metadata": {},
     "output_type": "execute_result"
    }
   ],
   "source": [
    "matrix"
   ]
  },
  {
   "cell_type": "code",
   "execution_count": 45,
   "id": "674b3826",
   "metadata": {},
   "outputs": [
    {
     "data": {
      "text/plain": [
       "2"
      ]
     },
     "execution_count": 45,
     "metadata": {},
     "output_type": "execute_result"
    }
   ],
   "source": [
    "matrix[0,1]  # [line, colomn]"
   ]
  },
  {
   "cell_type": "code",
   "execution_count": 48,
   "id": "27100241",
   "metadata": {},
   "outputs": [
    {
     "data": {
      "text/plain": [
       "9"
      ]
     },
     "execution_count": 48,
     "metadata": {},
     "output_type": "execute_result"
    }
   ],
   "source": [
    "matrix[2,2] # or may use like this [line][colomn]"
   ]
  },
  {
   "cell_type": "code",
   "execution_count": 50,
   "id": "80ec1278",
   "metadata": {},
   "outputs": [
    {
     "data": {
      "text/plain": [
       "9"
      ]
     },
     "execution_count": 50,
     "metadata": {},
     "output_type": "execute_result"
    }
   ],
   "source": [
    "matrix[2][2]"
   ]
  },
  {
   "cell_type": "code",
   "execution_count": 51,
   "id": "652dad9f",
   "metadata": {},
   "outputs": [],
   "source": [
    "# slicing multidiminsions array"
   ]
  },
  {
   "cell_type": "code",
   "execution_count": 52,
   "id": "0e1915be",
   "metadata": {},
   "outputs": [],
   "source": [
    "tempMatrix = matrix.copy()"
   ]
  },
  {
   "cell_type": "code",
   "execution_count": 53,
   "id": "55409282",
   "metadata": {},
   "outputs": [
    {
     "data": {
      "text/plain": [
       "array([[1, 2, 3],\n",
       "       [4, 5, 6],\n",
       "       [7, 8, 9]])"
      ]
     },
     "execution_count": 53,
     "metadata": {},
     "output_type": "execute_result"
    }
   ],
   "source": [
    "tempMatrix"
   ]
  },
  {
   "cell_type": "code",
   "execution_count": 58,
   "id": "c077512a",
   "metadata": {},
   "outputs": [
    {
     "data": {
      "text/plain": [
       "array([[3],\n",
       "       [6],\n",
       "       [9]])"
      ]
     },
     "execution_count": 58,
     "metadata": {},
     "output_type": "execute_result"
    }
   ],
   "source": [
    "tempMatrix = matrix[:,2:]\n",
    "tempMatrix"
   ]
  },
  {
   "cell_type": "code",
   "execution_count": 59,
   "id": "b84f7f96",
   "metadata": {},
   "outputs": [],
   "source": [
    "tempMatrix = matrix[1:,:]"
   ]
  },
  {
   "cell_type": "code",
   "execution_count": 60,
   "id": "e8f0ff49",
   "metadata": {},
   "outputs": [
    {
     "data": {
      "text/plain": [
       "array([[4, 5, 6],\n",
       "       [7, 8, 9]])"
      ]
     },
     "execution_count": 60,
     "metadata": {},
     "output_type": "execute_result"
    }
   ],
   "source": [
    "tempMatrix"
   ]
  },
  {
   "cell_type": "code",
   "execution_count": 61,
   "id": "e046a7f5",
   "metadata": {},
   "outputs": [],
   "source": [
    "tempMatrix = matrix[:2,:]"
   ]
  },
  {
   "cell_type": "code",
   "execution_count": 62,
   "id": "9b9ed5c8",
   "metadata": {},
   "outputs": [
    {
     "data": {
      "text/plain": [
       "array([[1, 2, 3],\n",
       "       [4, 5, 6]])"
      ]
     },
     "execution_count": 62,
     "metadata": {},
     "output_type": "execute_result"
    }
   ],
   "source": [
    "tempMatrix"
   ]
  },
  {
   "cell_type": "code",
   "execution_count": 63,
   "id": "3f4abcab",
   "metadata": {},
   "outputs": [],
   "source": [
    "tempMatrix = matrix[:,0:2]"
   ]
  },
  {
   "cell_type": "code",
   "execution_count": 64,
   "id": "48fa81c6",
   "metadata": {},
   "outputs": [
    {
     "data": {
      "text/plain": [
       "array([[1, 2],\n",
       "       [4, 5],\n",
       "       [7, 8]])"
      ]
     },
     "execution_count": 64,
     "metadata": {},
     "output_type": "execute_result"
    }
   ],
   "source": [
    "tempMatrix"
   ]
  },
  {
   "cell_type": "code",
   "execution_count": 67,
   "id": "1e198482",
   "metadata": {},
   "outputs": [],
   "source": [
    "newList = [[0,1,2,3,4],[5,6,7,8,9],[10,11,12,13,14],[15,16,17,18,19]]"
   ]
  },
  {
   "cell_type": "code",
   "execution_count": 69,
   "id": "f5320ba1",
   "metadata": {},
   "outputs": [
    {
     "data": {
      "text/plain": [
       "[[0, 1, 2, 3, 4], [5, 6, 7, 8, 9], [10, 11, 12, 13, 14], [15, 16, 17, 18, 19]]"
      ]
     },
     "execution_count": 69,
     "metadata": {},
     "output_type": "execute_result"
    }
   ],
   "source": [
    "newList"
   ]
  },
  {
   "cell_type": "code",
   "execution_count": 70,
   "id": "edb84359",
   "metadata": {},
   "outputs": [],
   "source": [
    "tempMatrix = np.array(newList)"
   ]
  },
  {
   "cell_type": "code",
   "execution_count": 71,
   "id": "35bf3020",
   "metadata": {},
   "outputs": [
    {
     "data": {
      "text/plain": [
       "array([[ 0,  1,  2,  3,  4],\n",
       "       [ 5,  6,  7,  8,  9],\n",
       "       [10, 11, 12, 13, 14],\n",
       "       [15, 16, 17, 18, 19]])"
      ]
     },
     "execution_count": 71,
     "metadata": {},
     "output_type": "execute_result"
    }
   ],
   "source": [
    "tempMatrix"
   ]
  },
  {
   "cell_type": "code",
   "execution_count": 76,
   "id": "d7abcf77",
   "metadata": {},
   "outputs": [
    {
     "data": {
      "text/plain": [
       "array([[15, 16, 17, 18, 19],\n",
       "       [10, 11, 12, 13, 14],\n",
       "       [ 5,  6,  7,  8,  9]])"
      ]
     },
     "execution_count": 76,
     "metadata": {},
     "output_type": "execute_result"
    }
   ],
   "source": [
    "tempMatrix[[3,2,1]] #fancy indexing :) "
   ]
  },
  {
   "cell_type": "code",
   "execution_count": 77,
   "id": "4ba11fb4",
   "metadata": {},
   "outputs": [
    {
     "data": {
      "text/plain": [
       "array([[10, 11, 12, 13, 14],\n",
       "       [15, 16, 17, 18, 19]])"
      ]
     },
     "execution_count": 77,
     "metadata": {},
     "output_type": "execute_result"
    }
   ],
   "source": [
    "tempMatrix[[2,3]]"
   ]
  },
  {
   "cell_type": "code",
   "execution_count": null,
   "id": "bc4a69ca",
   "metadata": {},
   "outputs": [],
   "source": [
    "    "
   ]
  }
 ],
 "metadata": {
  "kernelspec": {
   "display_name": "Python 3 (ipykernel)",
   "language": "python",
   "name": "python3"
  },
  "language_info": {
   "codemirror_mode": {
    "name": "ipython",
    "version": 3
   },
   "file_extension": ".py",
   "mimetype": "text/x-python",
   "name": "python",
   "nbconvert_exporter": "python",
   "pygments_lexer": "ipython3",
   "version": "3.9.13"
  }
 },
 "nbformat": 4,
 "nbformat_minor": 5
}
