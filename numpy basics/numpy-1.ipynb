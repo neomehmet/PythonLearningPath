{
 "cells": [
  {
   "cell_type": "code",
   "execution_count": null,
   "id": "13fce297",
   "metadata": {},
   "outputs": [],
   "source": [
    "import numpy as np\n",
    "#linspace, arange,\n",
    "\n",
    "mylist = [20,30,40]\n",
    "print(type(mylist))\n",
    "\n",
    "myNpArr = np.array(mylist)\n",
    "print(type(myNpArr))\n",
    "\n",
    "matrix = [ [1,2,3],[4,5,6],[7,8,9]]\n",
    "\n",
    "npMatrix = np.array(matrix)\n",
    "print( npMatrix )\n",
    "print( matrix )\n",
    "\n",
    "# arange function : oto list creates\n",
    "temp = np.arange(0,10)\n",
    "print(temp)\n",
    "\n",
    "temp = np.arange(0,20,1.5) #start, stop, step\n",
    "print(temp)\n",
    "\n",
    "# zeros empty list\n",
    "print( np.zeros((3,3)) )\n",
    "print( np.ones(7) )\n",
    "\n",
    "#linspace : create array with equals steps away\n",
    "temp = np.linspace(0,20,6)\n",
    "print(temp)  # star, stop, interspace number\n",
    "temp = np.linspace(0,5,7)\n",
    "print(temp)  # star, stop, interspace number\n",
    "\n",
    "# eye : create unit(identity matrix\n",
    "print(np.eye(3), np.eye(5))\n",
    "\n",
    "\n",
    "\n"
   ]
  }
 ],
 "metadata": {
  "kernelspec": {
   "display_name": "Python 3 (ipykernel)",
   "language": "python",
   "name": "python3"
  },
  "language_info": {
   "codemirror_mode": {
    "name": "ipython",
    "version": 3
   },
   "file_extension": ".py",
   "mimetype": "text/x-python",
   "name": "python",
   "nbconvert_exporter": "python",
   "pygments_lexer": "ipython3",
   "version": "3.9.13"
  }
 },
 "nbformat": 4,
 "nbformat_minor": 5
}
