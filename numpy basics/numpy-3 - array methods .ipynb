{
 "cells": [
  {
   "cell_type": "code",
   "execution_count": 4,
   "id": "0dfbe07d",
   "metadata": {},
   "outputs": [
    {
     "data": {
      "text/plain": [
       "array([ 0,  1,  2,  3,  4,  5,  6,  7,  8,  9, 10, 11, 12, 13, 14, 15, 16,\n",
       "       17, 18, 19, 20, 21, 22, 23, 24, 25, 26, 27, 28, 29])"
      ]
     },
     "execution_count": 4,
     "metadata": {},
     "output_type": "execute_result"
    }
   ],
   "source": [
    "import numpy as np\n",
    "temp = np.arange(30)\n",
    "temp"
   ]
  },
  {
   "cell_type": "code",
   "execution_count": 23,
   "id": "a3848651",
   "metadata": {},
   "outputs": [],
   "source": [
    "temp = np.random.randint(-50,50,60) #25 elemens interao 0-50"
   ]
  },
  {
   "cell_type": "code",
   "execution_count": 24,
   "id": "b3c919b3",
   "metadata": {},
   "outputs": [
    {
     "data": {
      "text/plain": [
       "array([ 12,  35,  38,   8,  14,   2,  37,  47, -15,  23,  -9,  11, -43,\n",
       "         0, -45,  10, -20, -15,  13, -37, -25, -40, -17,  25, -30, -21,\n",
       "        27,   0,  12,  -6,  34,  31, -21,   1, -12,  26,  33, -37, -37,\n",
       "        26,  43, -13, -23, -40, -31,  46, -16, -44,  36, -12,  38, -29,\n",
       "       -47,   5, -40, -39, -24,   7, -22,  19])"
      ]
     },
     "execution_count": 24,
     "metadata": {},
     "output_type": "execute_result"
    }
   ],
   "source": [
    "temp"
   ]
  },
  {
   "cell_type": "code",
   "execution_count": 25,
   "id": "c1883db8",
   "metadata": {},
   "outputs": [
    {
     "data": {
      "text/plain": [
       "array([[ 12,  35,  38,   8,  14],\n",
       "       [  2,  37,  47, -15,  23],\n",
       "       [ -9,  11, -43,   0, -45],\n",
       "       [ 10, -20, -15,  13, -37],\n",
       "       [-25, -40, -17,  25, -30],\n",
       "       [-21,  27,   0,  12,  -6],\n",
       "       [ 34,  31, -21,   1, -12],\n",
       "       [ 26,  33, -37, -37,  26],\n",
       "       [ 43, -13, -23, -40, -31],\n",
       "       [ 46, -16, -44,  36, -12],\n",
       "       [ 38, -29, -47,   5, -40],\n",
       "       [-39, -24,   7, -22,  19]])"
      ]
     },
     "execution_count": 25,
     "metadata": {},
     "output_type": "execute_result"
    }
   ],
   "source": [
    "temp.reshape(12,5)"
   ]
  },
  {
   "cell_type": "code",
   "execution_count": 26,
   "id": "7c44452a",
   "metadata": {},
   "outputs": [
    {
     "data": {
      "text/plain": [
       "array([[ 12,  35,  38,   8,  14,   2,  37,  47, -15,  23,  -9,  11, -43,\n",
       "          0, -45],\n",
       "       [ 10, -20, -15,  13, -37, -25, -40, -17,  25, -30, -21,  27,   0,\n",
       "         12,  -6],\n",
       "       [ 34,  31, -21,   1, -12,  26,  33, -37, -37,  26,  43, -13, -23,\n",
       "        -40, -31],\n",
       "       [ 46, -16, -44,  36, -12,  38, -29, -47,   5, -40, -39, -24,   7,\n",
       "        -22,  19]])"
      ]
     },
     "execution_count": 26,
     "metadata": {},
     "output_type": "execute_result"
    }
   ],
   "source": [
    "temp.reshape(4,15)"
   ]
  },
  {
   "cell_type": "code",
   "execution_count": 27,
   "id": "7a8735c8",
   "metadata": {},
   "outputs": [
    {
     "data": {
      "text/plain": [
       "array([[ 12,  35,  38,   8,  14,   2,  37,  47, -15,  23],\n",
       "       [ -9,  11, -43,   0, -45,  10, -20, -15,  13, -37],\n",
       "       [-25, -40, -17,  25, -30, -21,  27,   0,  12,  -6],\n",
       "       [ 34,  31, -21,   1, -12,  26,  33, -37, -37,  26],\n",
       "       [ 43, -13, -23, -40, -31,  46, -16, -44,  36, -12],\n",
       "       [ 38, -29, -47,   5, -40, -39, -24,   7, -22,  19]])"
      ]
     },
     "execution_count": 27,
     "metadata": {},
     "output_type": "execute_result"
    }
   ],
   "source": [
    "temp.reshape(6,10)"
   ]
  },
  {
   "cell_type": "code",
   "execution_count": 28,
   "id": "d04a9f00",
   "metadata": {},
   "outputs": [
    {
     "data": {
      "text/plain": [
       "47"
      ]
     },
     "execution_count": 28,
     "metadata": {},
     "output_type": "execute_result"
    }
   ],
   "source": [
    "temp.max()"
   ]
  },
  {
   "cell_type": "code",
   "execution_count": 29,
   "id": "75e0cf3b",
   "metadata": {},
   "outputs": [
    {
     "data": {
      "text/plain": [
       "-47"
      ]
     },
     "execution_count": 29,
     "metadata": {},
     "output_type": "execute_result"
    }
   ],
   "source": [
    "temp.min()"
   ]
  },
  {
   "cell_type": "markdown",
   "id": "30321953",
   "metadata": {},
   "source": [
    "temp.argmax("
   ]
  },
  {
   "cell_type": "code",
   "execution_count": 33,
   "id": "eb0e65bc",
   "metadata": {},
   "outputs": [
    {
     "data": {
      "text/plain": [
       "7"
      ]
     },
     "execution_count": 33,
     "metadata": {},
     "output_type": "execute_result"
    }
   ],
   "source": [
    "temp.argmax() #return index of max value"
   ]
  },
  {
   "cell_type": "code",
   "execution_count": 34,
   "id": "c7844482",
   "metadata": {},
   "outputs": [
    {
     "data": {
      "text/plain": [
       "52"
      ]
     },
     "execution_count": 34,
     "metadata": {},
     "output_type": "execute_result"
    }
   ],
   "source": [
    "temp.argmin() #return index of min value"
   ]
  },
  {
   "cell_type": "code",
   "execution_count": 42,
   "id": "d71bb73f",
   "metadata": {},
   "outputs": [
    {
     "data": {
      "text/plain": [
       "array([[ 12,  35,  38,   8,  14,   2,  37,  47, -15,  23,  -9,  11, -43,\n",
       "          0, -45],\n",
       "       [ 10, -20, -15,  13, -37, -25, -40, -17,  25, -30, -21,  27,   0,\n",
       "         12,  -6],\n",
       "       [ 34,  31, -21,   1, -12,  26,  33, -37, -37,  26,  43, -13, -23,\n",
       "        -40, -31],\n",
       "       [ 46, -16, -44,  36, -12,  38, -29, -47,   5, -40, -39, -24,   7,\n",
       "        -22,  19]])"
      ]
     },
     "execution_count": 42,
     "metadata": {},
     "output_type": "execute_result"
    }
   ],
   "source": [
    "reshapeTemp = temp.reshape(4,15)\n",
    "reshapeTemp"
   ]
  },
  {
   "cell_type": "code",
   "execution_count": 43,
   "id": "5ffe176a",
   "metadata": {},
   "outputs": [
    {
     "data": {
      "text/plain": [
       "array([ 12,  35,  38,   8,  14,   2,  37,  47, -15,  23,  -9,  11, -43,\n",
       "         0, -45,  10, -20, -15,  13, -37, -25, -40, -17,  25, -30, -21,\n",
       "        27,   0,  12,  -6,  34,  31, -21,   1, -12,  26,  33, -37, -37,\n",
       "        26,  43, -13, -23, -40, -31,  46, -16, -44,  36, -12,  38, -29,\n",
       "       -47,   5, -40, -39, -24,   7, -22,  19])"
      ]
     },
     "execution_count": 43,
     "metadata": {},
     "output_type": "execute_result"
    }
   ],
   "source": [
    "temp # np array one dimension"
   ]
  },
  {
   "cell_type": "code",
   "execution_count": 44,
   "id": "e7c97198",
   "metadata": {},
   "outputs": [
    {
     "data": {
      "text/plain": [
       "array([[ 12,  35,  38,   8,  14,   2,  37,  47, -15,  23,  -9,  11, -43,\n",
       "          0, -45],\n",
       "       [ 10, -20, -15,  13, -37, -25, -40, -17,  25, -30, -21,  27,   0,\n",
       "         12,  -6],\n",
       "       [ 34,  31, -21,   1, -12,  26,  33, -37, -37,  26,  43, -13, -23,\n",
       "        -40, -31],\n",
       "       [ 46, -16, -44,  36, -12,  38, -29, -47,   5, -40, -39, -24,   7,\n",
       "        -22,  19]])"
      ]
     },
     "execution_count": 44,
     "metadata": {},
     "output_type": "execute_result"
    }
   ],
   "source": [
    "reshapeTemp  "
   ]
  },
  {
   "cell_type": "code",
   "execution_count": null,
   "id": "d0d362c7",
   "metadata": {},
   "outputs": [],
   "source": []
  }
 ],
 "metadata": {
  "kernelspec": {
   "display_name": "Python 3 (ipykernel)",
   "language": "python",
   "name": "python3"
  },
  "language_info": {
   "codemirror_mode": {
    "name": "ipython",
    "version": 3
   },
   "file_extension": ".py",
   "mimetype": "text/x-python",
   "name": "python",
   "nbconvert_exporter": "python",
   "pygments_lexer": "ipython3",
   "version": "3.9.13"
  }
 },
 "nbformat": 4,
 "nbformat_minor": 5
}
