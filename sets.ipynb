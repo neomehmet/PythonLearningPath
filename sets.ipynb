{
 "cells": [
  {
   "cell_type": "code",
   "execution_count": 2,
   "id": "5ec50999",
   "metadata": {},
   "outputs": [],
   "source": [
    "#sets\n"
   ]
  },
  {
   "cell_type": "code",
   "execution_count": 10,
   "id": "c43ad152",
   "metadata": {},
   "outputs": [],
   "source": [
    "list = [1,2,3,1,2,3]"
   ]
  },
  {
   "cell_type": "code",
   "execution_count": 12,
   "id": "3c17cffe",
   "metadata": {},
   "outputs": [
    {
     "data": {
      "text/plain": [
       "1"
      ]
     },
     "execution_count": 12,
     "metadata": {},
     "output_type": "execute_result"
    }
   ],
   "source": [
    "list[0]"
   ]
  },
  {
   "cell_type": "code",
   "execution_count": 14,
   "id": "3c17ce36",
   "metadata": {},
   "outputs": [
    {
     "data": {
      "text/plain": [
       "1"
      ]
     },
     "execution_count": 14,
     "metadata": {},
     "output_type": "execute_result"
    }
   ],
   "source": [
    "list[3]"
   ]
  },
  {
   "cell_type": "code",
   "execution_count": 16,
   "id": "4bf8c4ba",
   "metadata": {},
   "outputs": [],
   "source": [
    " mySet = set(list)"
   ]
  },
  {
   "cell_type": "code",
   "execution_count": 17,
   "id": "90e5461c",
   "metadata": {},
   "outputs": [
    {
     "data": {
      "text/plain": [
       "{1, 2, 3}"
      ]
     },
     "execution_count": 17,
     "metadata": {},
     "output_type": "execute_result"
    }
   ],
   "source": [
    "mySet\n"
   ]
  },
  {
   "cell_type": "code",
   "execution_count": 20,
   "id": "5cd33468",
   "metadata": {},
   "outputs": [
    {
     "data": {
      "text/plain": [
       "set"
      ]
     },
     "execution_count": 20,
     "metadata": {},
     "output_type": "execute_result"
    }
   ],
   "source": [
    "type(mySet)"
   ]
  },
  {
   "cell_type": "code",
   "execution_count": 22,
   "id": "b6c285b5",
   "metadata": {},
   "outputs": [],
   "source": [
    "listTwo = [1,2,2,3,1,2,3,4,4,4,5,1]"
   ]
  },
  {
   "cell_type": "code",
   "execution_count": 24,
   "id": "bce47bb9",
   "metadata": {},
   "outputs": [],
   "source": [
    "mySetTwo = set(listTwo)"
   ]
  },
  {
   "cell_type": "code",
   "execution_count": 28,
   "id": "7d0b7f88",
   "metadata": {},
   "outputs": [
    {
     "data": {
      "text/plain": [
       "{1, 2, 3, 4, 5}"
      ]
     },
     "execution_count": 28,
     "metadata": {},
     "output_type": "execute_result"
    }
   ],
   "source": [
    "mySetTwo"
   ]
  },
  {
   "cell_type": "code",
   "execution_count": 29,
   "id": "bc564386",
   "metadata": {},
   "outputs": [
    {
     "data": {
      "text/plain": [
       "{1, 2, 3, 'a', 'b'}"
      ]
     },
     "execution_count": 29,
     "metadata": {},
     "output_type": "execute_result"
    }
   ],
   "source": [
    "# set defining curly bracet\n",
    "setOne = {1,2,3,3,1,\"a\",\"b\",\"a\"}\n",
    "setOne"
   ]
  },
  {
   "cell_type": "code",
   "execution_count": 30,
   "id": "4b248a9a",
   "metadata": {},
   "outputs": [],
   "source": [
    "emptyList = []"
   ]
  },
  {
   "cell_type": "code",
   "execution_count": 31,
   "id": "f2822967",
   "metadata": {},
   "outputs": [
    {
     "data": {
      "text/plain": [
       "list"
      ]
     },
     "execution_count": 31,
     "metadata": {},
     "output_type": "execute_result"
    }
   ],
   "source": [
    "type(emptyList)"
   ]
  },
  {
   "cell_type": "code",
   "execution_count": 32,
   "id": "157991bf",
   "metadata": {},
   "outputs": [
    {
     "data": {
      "text/plain": [
       "[]"
      ]
     },
     "execution_count": 32,
     "metadata": {},
     "output_type": "execute_result"
    }
   ],
   "source": [
    "emptyList\n"
   ]
  },
  {
   "cell_type": "code",
   "execution_count": 33,
   "id": "297cfda7",
   "metadata": {},
   "outputs": [],
   "source": [
    "emptyList.append(1)\n",
    "emptyList.append(\"a\")"
   ]
  },
  {
   "cell_type": "code",
   "execution_count": 34,
   "id": "7a919fe4",
   "metadata": {},
   "outputs": [
    {
     "data": {
      "text/plain": [
       "[1, 'a']"
      ]
     },
     "execution_count": 34,
     "metadata": {},
     "output_type": "execute_result"
    }
   ],
   "source": [
    "emptyList"
   ]
  },
  {
   "cell_type": "code",
   "execution_count": 35,
   "id": "6c9dedb5",
   "metadata": {},
   "outputs": [],
   "source": [
    "emptySet = {}"
   ]
  },
  {
   "cell_type": "code",
   "execution_count": 36,
   "id": "3226ab1e",
   "metadata": {},
   "outputs": [
    {
     "data": {
      "text/plain": [
       "dict"
      ]
     },
     "execution_count": 36,
     "metadata": {},
     "output_type": "execute_result"
    }
   ],
   "source": [
    "type(emptySet)"
   ]
  },
  {
   "cell_type": "code",
   "execution_count": 38,
   "id": "6bcf22bc",
   "metadata": {},
   "outputs": [
    {
     "data": {
      "text/plain": [
       "{}"
      ]
     },
     "execution_count": 38,
     "metadata": {},
     "output_type": "execute_result"
    }
   ],
   "source": [
    "emptyDict  = {}\n",
    "emptyDict\n"
   ]
  },
  {
   "cell_type": "code",
   "execution_count": 39,
   "id": "f27312c5",
   "metadata": {},
   "outputs": [
    {
     "data": {
      "text/plain": [
       "{'keyOne': 11111}"
      ]
     },
     "execution_count": 39,
     "metadata": {},
     "output_type": "execute_result"
    }
   ],
   "source": [
    "emptyDict[\"keyOne\"] = 11111\n",
    "emptyDict"
   ]
  },
  {
   "cell_type": "code",
   "execution_count": 40,
   "id": "55ba7695",
   "metadata": {},
   "outputs": [],
   "source": [
    "myEmptySet = set()"
   ]
  },
  {
   "cell_type": "code",
   "execution_count": 41,
   "id": "cc76a236",
   "metadata": {},
   "outputs": [
    {
     "data": {
      "text/plain": [
       "set"
      ]
     },
     "execution_count": 41,
     "metadata": {},
     "output_type": "execute_result"
    }
   ],
   "source": [
    "type(myEmptySet)"
   ]
  },
  {
   "cell_type": "code",
   "execution_count": 42,
   "id": "4546e5d1",
   "metadata": {},
   "outputs": [
    {
     "data": {
      "text/plain": [
       "{30, 1000}"
      ]
     },
     "execution_count": 42,
     "metadata": {},
     "output_type": "execute_result"
    }
   ],
   "source": [
    "# this is the differences defining empty dict and set\n",
    "myEmptySet.add(1000)\n",
    "myEmptySet.add(1000)\n",
    "myEmptySet.add(30)\n",
    "myEmptySet"
   ]
  },
  {
   "cell_type": "code",
   "execution_count": null,
   "id": "4fdcebe6",
   "metadata": {},
   "outputs": [],
   "source": [
    " "
   ]
  }
 ],
 "metadata": {
  "kernelspec": {
   "display_name": "Python 3 (ipykernel)",
   "language": "python",
   "name": "python3"
  },
  "language_info": {
   "codemirror_mode": {
    "name": "ipython",
    "version": 3
   },
   "file_extension": ".py",
   "mimetype": "text/x-python",
   "name": "python",
   "nbconvert_exporter": "python",
   "pygments_lexer": "ipython3",
   "version": "3.9.13"
  }
 },
 "nbformat": 4,
 "nbformat_minor": 5
}
