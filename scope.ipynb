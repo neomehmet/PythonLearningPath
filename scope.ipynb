{
 "cells": [
  {
   "cell_type": "code",
   "execution_count": 1,
   "id": "c8c1823d",
   "metadata": {},
   "outputs": [
    {
     "data": {
      "text/plain": [
       "50"
      ]
     },
     "execution_count": 1,
     "metadata": {},
     "output_type": "execute_result"
    }
   ],
   "source": [
    "number = 20\n",
    "\n",
    "def mult( anumber):\n",
    "    number = 10\n",
    "    return anumber * number\n",
    "\n",
    "mult(5)"
   ]
  },
  {
   "cell_type": "code",
   "execution_count": 2,
   "id": "42dd6c91",
   "metadata": {},
   "outputs": [
    {
     "name": "stdout",
     "output_type": "stream",
     "text": [
      "20\n"
     ]
    }
   ],
   "source": [
    " print(number)"
   ]
  },
  {
   "cell_type": "code",
   "execution_count": 3,
   "id": "cddb96ae",
   "metadata": {},
   "outputs": [],
   "source": [
    "# scope in Clang {}"
   ]
  },
  {
   "cell_type": "code",
   "execution_count": 4,
   "id": "5f0ee993",
   "metadata": {},
   "outputs": [],
   "source": [
    "x = 20\n",
    "x = 10"
   ]
  },
  {
   "cell_type": "code",
   "execution_count": 5,
   "id": "d8aa7c8d",
   "metadata": {},
   "outputs": [
    {
     "data": {
      "text/plain": [
       "10"
      ]
     },
     "execution_count": 5,
     "metadata": {},
     "output_type": "execute_result"
    }
   ],
   "source": [
    "x"
   ]
  },
  {
   "cell_type": "markdown",
   "id": "69b1f987",
   "metadata": {},
   "source": [
    "## local, enclosing , global built-in"
   ]
  },
  {
   "cell_type": "code",
   "execution_count": 12,
   "id": "89ce606e",
   "metadata": {},
   "outputs": [],
   "source": [
    "myName = \"Conqueror Mehmet The Second\"\n",
    "#Global\n",
    "\n",
    "def myFunc():\n",
    "    myName = \"Murad The Second\"\n",
    "    def innerFunc():\n",
    "        myName = \"Suleyman The Magnificiant\"\n",
    "        print(myName)\n",
    "    innerFunc();"
   ]
  },
  {
   "cell_type": "code",
   "execution_count": 13,
   "id": "247726d4",
   "metadata": {},
   "outputs": [
    {
     "name": "stdout",
     "output_type": "stream",
     "text": [
      "Suleyman The Magnificiant\n"
     ]
    }
   ],
   "source": [
    "myFunc()"
   ]
  },
  {
   "cell_type": "code",
   "execution_count": 14,
   "id": "8abed89c",
   "metadata": {},
   "outputs": [],
   "source": [
    "myName = \"Conqueror Mehmet The Second\"\n",
    "#Global\n",
    "\n",
    "def myFunc():\n",
    "    myName = \"Murad The Second\"\n",
    "    def innerFunc():\n",
    "       # myName = \"Suleyman The Magnificiant\"\n",
    "        print(myName)\n",
    "    innerFunc();"
   ]
  },
  {
   "cell_type": "code",
   "execution_count": 15,
   "id": "3d2662d9",
   "metadata": {},
   "outputs": [
    {
     "name": "stdout",
     "output_type": "stream",
     "text": [
      "Murad The Second\n"
     ]
    }
   ],
   "source": [
    "myFunc()"
   ]
  },
  {
   "cell_type": "code",
   "execution_count": 16,
   "id": "7dfd0fe9",
   "metadata": {},
   "outputs": [],
   "source": [
    "myName = \"Conqueror Mehmet The Second\"\n",
    "#Global\n",
    "\n",
    "def myFunc():\n",
    "   # myName = \"Murad The Second\"\n",
    "    def innerFunc():\n",
    "       # myName = \"Suleyman The Magnificiant\"\n",
    "        print(myName)\n",
    "    innerFunc();"
   ]
  },
  {
   "cell_type": "code",
   "execution_count": 17,
   "id": "7144b135",
   "metadata": {},
   "outputs": [
    {
     "name": "stdout",
     "output_type": "stream",
     "text": [
      "Conqueror Mehmet The Second\n"
     ]
    }
   ],
   "source": [
    "myFunc()"
   ]
  },
  {
   "cell_type": "code",
   "execution_count": 20,
   "id": "6cf6658f",
   "metadata": {},
   "outputs": [
    {
     "data": {
      "text/plain": [
       "10"
      ]
     },
     "execution_count": 20,
     "metadata": {},
     "output_type": "execute_result"
    }
   ],
   "source": [
    "y = 10\n",
    "\n",
    "def examF():\n",
    "    global y\n",
    "    y=5\n",
    "    print(y)\n",
    "y"
   ]
  },
  {
   "cell_type": "code",
   "execution_count": 21,
   "id": "00acbd23",
   "metadata": {},
   "outputs": [
    {
     "name": "stdout",
     "output_type": "stream",
     "text": [
      "5\n"
     ]
    }
   ],
   "source": [
    "examF()"
   ]
  },
  {
   "cell_type": "code",
   "execution_count": null,
   "id": "7065c322",
   "metadata": {},
   "outputs": [],
   "source": []
  }
 ],
 "metadata": {
  "kernelspec": {
   "display_name": "Python 3 (ipykernel)",
   "language": "python",
   "name": "python3"
  },
  "language_info": {
   "codemirror_mode": {
    "name": "ipython",
    "version": 3
   },
   "file_extension": ".py",
   "mimetype": "text/x-python",
   "name": "python",
   "nbconvert_exporter": "python",
   "pygments_lexer": "ipython3",
   "version": "3.9.13"
  }
 },
 "nbformat": 4,
 "nbformat_minor": 5
}
