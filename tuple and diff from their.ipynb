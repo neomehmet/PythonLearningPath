{
 "cells": [
  {
   "cell_type": "code",
   "execution_count": 1,
   "id": "cbb86e36",
   "metadata": {},
   "outputs": [],
   "source": [
    "### tuples\n",
    "## kind of list:  listDef = [1,2,3,...\"asd\",\"q12\"]  ordered,   mutable,  duplicate member []\n",
    "##                tupleDef = ( 1,2,3,\"a\",5,\"asdf\")  ordered,   unmutable, duplicate member ()  indexed \n",
    "##                sets = set(list-dict)  or myset = set()   mutable  changeable  ,\n",
    "##                dict = { 1, 2, 3,4 ...\"a\",,,\"z\"} changeable, mutable, indexed "
   ]
  },
  {
   "cell_type": "code",
   "execution_count": 2,
   "id": "fc34f003",
   "metadata": {},
   "outputs": [],
   "source": [
    "#tuples is kind of set but not immutable\n",
    "# variable is accessed with index"
   ]
  },
  {
   "cell_type": "code",
   "execution_count": 4,
   "id": "0a30e964",
   "metadata": {},
   "outputs": [
    {
     "data": {
      "text/plain": [
       "(1, 2, 3, 'a', 'b', 5)"
      ]
     },
     "execution_count": 4,
     "metadata": {},
     "output_type": "execute_result"
    }
   ],
   "source": [
    "myTuple = (1,2,3,\"a\",\"b\",5)\n",
    "myTuple"
   ]
  },
  {
   "cell_type": "code",
   "execution_count": 5,
   "id": "2c4d7a98",
   "metadata": {},
   "outputs": [
    {
     "data": {
      "text/plain": [
       "1"
      ]
     },
     "execution_count": 5,
     "metadata": {},
     "output_type": "execute_result"
    }
   ],
   "source": [
    "myTuple.count(\"b\")"
   ]
  },
  {
   "cell_type": "code",
   "execution_count": 8,
   "id": "be41ebc6",
   "metadata": {},
   "outputs": [
    {
     "data": {
      "text/plain": [
       "2"
      ]
     },
     "execution_count": 8,
     "metadata": {},
     "output_type": "execute_result"
    }
   ],
   "source": [
    "myTuple.index(3)"
   ]
  },
  {
   "cell_type": "code",
   "execution_count": 9,
   "id": "a65dcecf",
   "metadata": {},
   "outputs": [],
   "source": [
    "emptyList= []   ## data types str list sut tuple int dic = [\"asd\"]\n",
    "emptyDic ={}    ## data types str int set dic tuple list  = {\"key\":value}"
   ]
  },
  {
   "cell_type": "code",
   "execution_count": 11,
   "id": "1c5d3f69",
   "metadata": {},
   "outputs": [],
   "source": [
    "emptySet = set() ## data types int str tuple but not list set dict {\"asd\"}\n",
    "emptyTup = ()    ## data types str list set tuple int dic   (\"asd\")\n"
   ]
  },
  {
   "cell_type": "code",
   "execution_count": 1,
   "id": "9b604bbb",
   "metadata": {},
   "outputs": [],
   "source": [
    "myTuple = (1,2,3,4,5,5,1)"
   ]
  },
  {
   "cell_type": "code",
   "execution_count": 3,
   "id": "bad74868",
   "metadata": {},
   "outputs": [
    {
     "name": "stdout",
     "output_type": "stream",
     "text": [
      "-9\n",
      "-8\n",
      "-7\n",
      "-6\n",
      "-5\n",
      "-5\n",
      "-9\n"
     ]
    }
   ],
   "source": [
    "for i in myTuple:  # tuple unmutable\n",
    "    print(i - 10)"
   ]
  },
  {
   "cell_type": "code",
   "execution_count": 4,
   "id": "f4136632",
   "metadata": {},
   "outputs": [
    {
     "data": {
      "text/plain": [
       "list"
      ]
     },
     "execution_count": 4,
     "metadata": {},
     "output_type": "execute_result"
    }
   ],
   "source": [
    "listOfTuple = [(1.1,11.1), (2.2,22.2),(123.123,456.456)]\n",
    "type(listOfTuple)"
   ]
  },
  {
   "cell_type": "code",
   "execution_count": 5,
   "id": "7c5ac212",
   "metadata": {},
   "outputs": [
    {
     "data": {
      "text/plain": [
       "tuple"
      ]
     },
     "execution_count": 5,
     "metadata": {},
     "output_type": "execute_result"
    }
   ],
   "source": [
    "type(listOfTuple[0])"
   ]
  },
  {
   "cell_type": "code",
   "execution_count": 6,
   "id": "aa30b66b",
   "metadata": {},
   "outputs": [
    {
     "name": "stdout",
     "output_type": "stream",
     "text": [
      "(1.1, 11.1)\n",
      "(2.2, 22.2)\n",
      "(123.123, 456.456)\n"
     ]
    }
   ],
   "source": [
    "for element in listOfTuple:\n",
    "    print(element)"
   ]
  },
  {
   "cell_type": "code",
   "execution_count": 8,
   "id": "61d2dbee",
   "metadata": {},
   "outputs": [
    {
     "name": "stdout",
     "output_type": "stream",
     "text": [
      "that is first element in index zero 1.1\n",
      "that is second element in first index 11.1\n",
      "that is first element in index zero 2.2\n",
      "that is second element in first index 22.2\n",
      "that is first element in index zero 123.123\n",
      "that is second element in first index 456.456\n"
     ]
    }
   ],
   "source": [
    "for element in listOfTuple:\n",
    "    print(\"that is first element in index zero\",element[0])\n",
    "    print(\"that is second element in first index\",element[1])"
   ]
  },
  {
   "cell_type": "code",
   "execution_count": null,
   "id": "b2eab6fc",
   "metadata": {},
   "outputs": [],
   "source": [
    "myDict  = {\"keyOneFSm\":1453, \"keyTwoUtman\":1299, \"keyThreeSuleymanFirst\":}"
   ]
  }
 ],
 "metadata": {
  "kernelspec": {
   "display_name": "Python 3 (ipykernel)",
   "language": "python",
   "name": "python3"
  },
  "language_info": {
   "codemirror_mode": {
    "name": "ipython",
    "version": 3
   },
   "file_extension": ".py",
   "mimetype": "text/x-python",
   "name": "python",
   "nbconvert_exporter": "python",
   "pygments_lexer": "ipython3",
   "version": "3.9.13"
  }
 },
 "nbformat": 4,
 "nbformat_minor": 5
}
