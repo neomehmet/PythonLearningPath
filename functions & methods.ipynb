{
 "cells": [
  {
   "cell_type": "code",
   "execution_count": 1,
   "id": "9b5885ce",
   "metadata": {},
   "outputs": [],
   "source": [
    "name = \"fatih\"\n"
   ]
  },
  {
   "cell_type": "code",
   "execution_count": 2,
   "id": "22addee6",
   "metadata": {},
   "outputs": [
    {
     "data": {
      "text/plain": [
       "<function str.capitalize()>"
      ]
     },
     "execution_count": 2,
     "metadata": {},
     "output_type": "execute_result"
    }
   ],
   "source": [
    "name.capitalize"
   ]
  },
  {
   "cell_type": "code",
   "execution_count": 3,
   "id": "c605d4fb",
   "metadata": {},
   "outputs": [
    {
     "data": {
      "text/plain": [
       "'Fatih'"
      ]
     },
     "execution_count": 3,
     "metadata": {},
     "output_type": "execute_result"
    }
   ],
   "source": [
    "name.capitalize()"
   ]
  },
  {
   "cell_type": "code",
   "execution_count": 4,
   "id": "08344692",
   "metadata": {},
   "outputs": [
    {
     "data": {
      "text/plain": [
       "'fatih'"
      ]
     },
     "execution_count": 4,
     "metadata": {},
     "output_type": "execute_result"
    }
   ],
   "source": [
    "name"
   ]
  },
  {
   "cell_type": "code",
   "execution_count": 5,
   "id": "4d31aeea",
   "metadata": {},
   "outputs": [
    {
     "data": {
      "text/plain": [
       "'FATIH'"
      ]
     },
     "execution_count": 5,
     "metadata": {},
     "output_type": "execute_result"
    }
   ],
   "source": [
    "name.upper()\n"
   ]
  },
  {
   "cell_type": "code",
   "execution_count": 6,
   "id": "baac12f8",
   "metadata": {},
   "outputs": [
    {
     "data": {
      "text/plain": [
       "'fatih'"
      ]
     },
     "execution_count": 6,
     "metadata": {},
     "output_type": "execute_result"
    }
   ],
   "source": [
    "name"
   ]
  },
  {
   "cell_type": "code",
   "execution_count": 7,
   "id": "e503ccae",
   "metadata": {},
   "outputs": [],
   "source": [
    "name = name.capitalize()"
   ]
  },
  {
   "cell_type": "code",
   "execution_count": 8,
   "id": "137d1cd5",
   "metadata": {},
   "outputs": [
    {
     "data": {
      "text/plain": [
       "'Fatih'"
      ]
     },
     "execution_count": 8,
     "metadata": {},
     "output_type": "execute_result"
    }
   ],
   "source": [
    "name"
   ]
  },
  {
   "cell_type": "code",
   "execution_count": 9,
   "id": "7ef48d6b",
   "metadata": {},
   "outputs": [],
   "source": [
    "name = name.upper()"
   ]
  },
  {
   "cell_type": "code",
   "execution_count": 10,
   "id": "f3c58299",
   "metadata": {},
   "outputs": [
    {
     "data": {
      "text/plain": [
       "'FATIH'"
      ]
     },
     "execution_count": 10,
     "metadata": {},
     "output_type": "execute_result"
    }
   ],
   "source": [
    "name"
   ]
  },
  {
   "cell_type": "code",
   "execution_count": 12,
   "id": "5544fdb2",
   "metadata": {},
   "outputs": [
    {
     "data": {
      "text/plain": [
       "0"
      ]
     },
     "execution_count": 12,
     "metadata": {},
     "output_type": "execute_result"
    }
   ],
   "source": [
    "name.count(\"a\")"
   ]
  },
  {
   "cell_type": "code",
   "execution_count": 13,
   "id": "81bdb047",
   "metadata": {},
   "outputs": [
    {
     "data": {
      "text/plain": [
       "1"
      ]
     },
     "execution_count": 13,
     "metadata": {},
     "output_type": "execute_result"
    }
   ],
   "source": [
    "name.count(\"A\")"
   ]
  },
  {
   "cell_type": "code",
   "execution_count": 14,
   "id": "f7b9a03f",
   "metadata": {},
   "outputs": [
    {
     "data": {
      "text/plain": [
       "['FATIH']"
      ]
     },
     "execution_count": 14,
     "metadata": {},
     "output_type": "execute_result"
    }
   ],
   "source": [
    "name.split(\",\")"
   ]
  },
  {
   "cell_type": "code",
   "execution_count": 16,
   "id": "dfa026d8",
   "metadata": {},
   "outputs": [],
   "source": [
    "name = \"fatih Mehmet\""
   ]
  },
  {
   "cell_type": "code",
   "execution_count": 17,
   "id": "167d5975",
   "metadata": {},
   "outputs": [
    {
     "data": {
      "text/plain": [
       "'fatih Mehmet'"
      ]
     },
     "execution_count": 17,
     "metadata": {},
     "output_type": "execute_result"
    }
   ],
   "source": [
    "name\n"
   ]
  },
  {
   "cell_type": "code",
   "execution_count": 18,
   "id": "f402348c",
   "metadata": {},
   "outputs": [
    {
     "data": {
      "text/plain": [
       "['fatih Mehmet']"
      ]
     },
     "execution_count": 18,
     "metadata": {},
     "output_type": "execute_result"
    }
   ],
   "source": [
    "name.split(\",\")"
   ]
  },
  {
   "cell_type": "code",
   "execution_count": 21,
   "id": "f006f70d",
   "metadata": {},
   "outputs": [],
   "source": [
    "#functions def\n",
    "def functionFirst():\n",
    "        print(\" ...\")\n"
   ]
  },
  {
   "cell_type": "code",
   "execution_count": 22,
   "id": "0b90a2f6",
   "metadata": {},
   "outputs": [
    {
     "name": "stdout",
     "output_type": "stream",
     "text": [
      " ...\n"
     ]
    }
   ],
   "source": [
    "functionFirst()"
   ]
  },
  {
   "cell_type": "code",
   "execution_count": 25,
   "id": "eb212c57",
   "metadata": {},
   "outputs": [],
   "source": [
    "def displayOne( taken ):\n",
    "    print(taken)"
   ]
  },
  {
   "cell_type": "code",
   "execution_count": 26,
   "id": "ea0e42e1",
   "metadata": {},
   "outputs": [
    {
     "name": "stdout",
     "output_type": "stream",
     "text": [
      "hello\n"
     ]
    }
   ],
   "source": [
    "displayOne(\"hello\")"
   ]
  },
  {
   "cell_type": "code",
   "execution_count": 27,
   "id": "cd07d6a5",
   "metadata": {},
   "outputs": [],
   "source": [
    "def  sumAB(number1,number2):\n",
    "    print( number1+number2 )\n"
   ]
  },
  {
   "cell_type": "code",
   "execution_count": 28,
   "id": "56c30e58",
   "metadata": {},
   "outputs": [
    {
     "name": "stdout",
     "output_type": "stream",
     "text": [
      "12\n"
     ]
    }
   ],
   "source": [
    "sumAB(1,11)"
   ]
  },
  {
   "cell_type": "code",
   "execution_count": 29,
   "id": "c7adf615",
   "metadata": {},
   "outputs": [],
   "source": [
    "def SumAB( number1, number2):\n",
    "    return number1+number2\n",
    "asd = SumAB(10,20)"
   ]
  },
  {
   "cell_type": "code",
   "execution_count": 30,
   "id": "0216962d",
   "metadata": {},
   "outputs": [
    {
     "data": {
      "text/plain": [
       "30"
      ]
     },
     "execution_count": 30,
     "metadata": {},
     "output_type": "execute_result"
    }
   ],
   "source": [
    "asd\n"
   ]
  },
  {
   "cell_type": "code",
   "execution_count": 31,
   "id": "2d3b47e8",
   "metadata": {},
   "outputs": [
    {
     "data": {
      "text/plain": [
       "int"
      ]
     },
     "execution_count": 31,
     "metadata": {},
     "output_type": "execute_result"
    }
   ],
   "source": [
    "type(asd)"
   ]
  },
  {
   "cell_type": "code",
   "execution_count": 32,
   "id": "c1529593",
   "metadata": {},
   "outputs": [],
   "source": [
    "# args & kwargs"
   ]
  },
  {
   "cell_type": "code",
   "execution_count": 37,
   "id": "6102b7b8",
   "metadata": {},
   "outputs": [
    {
     "data": {
      "text/plain": [
       "150"
      ]
     },
     "execution_count": 37,
     "metadata": {},
     "output_type": "execute_result"
    }
   ],
   "source": [
    "def summationAB(*args):\n",
    "    return sum(args)\n",
    "\n",
    "summationAB(10,20,30,40,50)"
   ]
  },
  {
   "cell_type": "code",
   "execution_count": 38,
   "id": "1515c6cf",
   "metadata": {},
   "outputs": [
    {
     "data": {
      "text/plain": [
       "int"
      ]
     },
     "execution_count": 38,
     "metadata": {},
     "output_type": "execute_result"
    }
   ],
   "source": [
    "type(summationAB(10,2,3,51,11))"
   ]
  },
  {
   "cell_type": "code",
   "execution_count": 39,
   "id": "0e7c236e",
   "metadata": {},
   "outputs": [
    {
     "data": {
      "text/plain": [
       "tuple"
      ]
     },
     "execution_count": 39,
     "metadata": {},
     "output_type": "execute_result"
    }
   ],
   "source": [
    "def argReturner(*args):\n",
    "    return args\n",
    "type(argReturner(10,1,2,33,4))"
   ]
  },
  {
   "cell_type": "code",
   "execution_count": 42,
   "id": "ea5018af",
   "metadata": {},
   "outputs": [
    {
     "data": {
      "text/plain": [
       "dict"
      ]
     },
     "execution_count": 42,
     "metadata": {},
     "output_type": "execute_result"
    }
   ],
   "source": [
    "def exampleFunc(**kwargs):\n",
    "    return (kwargs)\n",
    "type(exampleFunc(banana = 100, apple=200, raspberry=300))\n"
   ]
  },
  {
   "cell_type": "code",
   "execution_count": 43,
   "id": "73ad48c8",
   "metadata": {},
   "outputs": [],
   "source": [
    "def wordControl(**kwargs):\n",
    "    if \"istanbul\" in kwargs:\n",
    "        print(\"present  \")\n",
    "    else:\n",
    "        print(\"absent\")\n",
    "    "
   ]
  },
  {
   "cell_type": "code",
   "execution_count": 46,
   "id": "8f16feab",
   "metadata": {},
   "outputs": [
    {
     "name": "stdout",
     "output_type": "stream",
     "text": [
      "absent\n"
     ]
    }
   ],
   "source": [
    "wordControl( w1 = \"mehmet\", w2 =\"constantine\" )"
   ]
  },
  {
   "cell_type": "code",
   "execution_count": 47,
   "id": "7ab7efa1",
   "metadata": {},
   "outputs": [
    {
     "name": "stdout",
     "output_type": "stream",
     "text": [
      "present  \n"
     ]
    }
   ],
   "source": [
    "wordControl( mehmet = 1, constantine = 2, istanbul = 3 )"
   ]
  },
  {
   "cell_type": "code",
   "execution_count": null,
   "id": "28713d31",
   "metadata": {},
   "outputs": [],
   "source": []
  }
 ],
 "metadata": {
  "kernelspec": {
   "display_name": "Python 3 (ipykernel)",
   "language": "python",
   "name": "python3"
  },
  "language_info": {
   "codemirror_mode": {
    "name": "ipython",
    "version": 3
   },
   "file_extension": ".py",
   "mimetype": "text/x-python",
   "name": "python",
   "nbconvert_exporter": "python",
   "pygments_lexer": "ipython3",
   "version": "3.9.13"
  }
 },
 "nbformat": 4,
 "nbformat_minor": 5
}
