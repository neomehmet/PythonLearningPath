{
 "cells": [
  {
   "cell_type": "code",
   "execution_count": 1,
   "id": "11195932",
   "metadata": {},
   "outputs": [
    {
     "name": "stdout",
     "output_type": "stream",
     "text": [
      "0\n",
      "1\n",
      "2\n",
      "3\n",
      "4\n",
      "5\n",
      "6\n",
      "7\n",
      "8\n",
      "9\n"
     ]
    }
   ],
   "source": [
    "x = 0\n",
    "while x < 10:\n",
    "    print(x)\n",
    "    x +=1"
   ]
  },
  {
   "cell_type": "code",
   "execution_count": 5,
   "id": "cb9d12fb",
   "metadata": {},
   "outputs": [
    {
     "name": "stdout",
     "output_type": "stream",
     "text": [
      " x smaller then 5 , and current 0\n",
      " x smaller then 5 , and current 1\n",
      " x smaller then 5 , and current 2\n",
      " x smaller then 5 , and current 3\n",
      " x smaller then 5 , and current 4\n",
      "x equals 5, and current  5\n",
      "bigger then 5 and current  6\n",
      "bigger then 5 and current  7\n",
      "bigger then 5 and current  8\n",
      "bigger then 5 and current  9\n"
     ]
    }
   ],
   "source": [
    "x = 0\n",
    "while x < 10:\n",
    "    if x < 5:\n",
    "        print(\" x smaller then 5 , and current\",x)\n",
    "    elif x == 5:\n",
    "        print(\"x equals 5, and current \",x)\n",
    "    else:\n",
    "        print(\"bigger then 5 and current \",x)\n",
    "    x+= 1"
   ]
  },
  {
   "cell_type": "code",
   "execution_count": 7,
   "id": "8e98fb14",
   "metadata": {},
   "outputs": [
    {
     "name": "stdout",
     "output_type": "stream",
     "text": [
      "0\n",
      "1\n",
      "2\n",
      "3\n",
      "4\n",
      "5\n",
      "6\n",
      "7\n",
      "8\n",
      "9\n",
      "10\n",
      "11\n",
      "12\n",
      "13\n"
     ]
    }
   ],
   "source": [
    "state = 0\n",
    "\n",
    "while state < 20:\n",
    "    print(state)\n",
    "    if state == 13:\n",
    "        break\n",
    "    state += 1"
   ]
  },
  {
   "cell_type": "code",
   "execution_count": 13,
   "id": "ed9ab93a",
   "metadata": {},
   "outputs": [
    {
     "name": "stdout",
     "output_type": "stream",
     "text": [
      "current value {0}\n",
      "current value {1}\n",
      "current value {2}\n",
      "current value {3}\n",
      "current value {4}\n",
      "current value {5}\n",
      "current value {6}\n",
      "current value {7}\n",
      "current value {8}\n",
      "current value {9}\n"
     ]
    }
   ],
   "source": [
    "y = 0\n",
    "while y < 10:\n",
    "    #print(\"current value\",str(y))\n",
    "    print(f\"current value\",{y}) #f comes from formatting operations will do\n",
    "    y +=1"
   ]
  },
  {
   "cell_type": "code",
   "execution_count": null,
   "id": "89fe9578",
   "metadata": {},
   "outputs": [],
   "source": []
  }
 ],
 "metadata": {
  "kernelspec": {
   "display_name": "Python 3 (ipykernel)",
   "language": "python",
   "name": "python3"
  },
  "language_info": {
   "codemirror_mode": {
    "name": "ipython",
    "version": 3
   },
   "file_extension": ".py",
   "mimetype": "text/x-python",
   "name": "python",
   "nbconvert_exporter": "python",
   "pygments_lexer": "ipython3",
   "version": "3.9.13"
  }
 },
 "nbformat": 4,
 "nbformat_minor": 5
}
