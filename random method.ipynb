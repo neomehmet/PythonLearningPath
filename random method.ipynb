{
 "cells": [
  {
   "cell_type": "code",
   "execution_count": 1,
   "id": "88108d74",
   "metadata": {},
   "outputs": [],
   "source": [
    "from random import randint"
   ]
  },
  {
   "cell_type": "code",
   "execution_count": 38,
   "id": "cef16b81",
   "metadata": {},
   "outputs": [],
   "source": [
    "x  = randint(0,999)"
   ]
  },
  {
   "cell_type": "code",
   "execution_count": 39,
   "id": "0703c251",
   "metadata": {},
   "outputs": [
    {
     "data": {
      "text/plain": [
       "955"
      ]
     },
     "execution_count": 39,
     "metadata": {},
     "output_type": "execute_result"
    }
   ],
   "source": [
    "x"
   ]
  },
  {
   "cell_type": "code",
   "execution_count": 53,
   "id": "eab3e1a6",
   "metadata": {},
   "outputs": [],
   "source": [
    "myList = list(range(0,15))"
   ]
  },
  {
   "cell_type": "code",
   "execution_count": 54,
   "id": "a60ee149",
   "metadata": {},
   "outputs": [
    {
     "data": {
      "text/plain": [
       "13"
      ]
     },
     "execution_count": 54,
     "metadata": {},
     "output_type": "execute_result"
    }
   ],
   "source": [
    "myList[randint(1,14)] #random index generator"
   ]
  },
  {
   "cell_type": "code",
   "execution_count": 55,
   "id": "e927b97d",
   "metadata": {},
   "outputs": [],
   "source": [
    "from random import shuffle #to mixer\n"
   ]
  },
  {
   "cell_type": "code",
   "execution_count": 56,
   "id": "66a75a78",
   "metadata": {},
   "outputs": [
    {
     "name": "stdout",
     "output_type": "stream",
     "text": [
      "[0, 1, 2, 3, 4, 5, 6, 7, 8, 9, 10, 11, 12, 13, 14]\n",
      "[12, 7, 14, 2, 8, 4, 6, 1, 11, 5, 13, 9, 0, 10, 3]\n"
     ]
    }
   ],
   "source": [
    "print(myList)\n",
    "shuffle(myList)\n",
    "print(myList)"
   ]
  },
  {
   "cell_type": "code",
   "execution_count": 57,
   "id": "c48f4c69",
   "metadata": {},
   "outputs": [],
   "source": [
    "foods = [\"banana\",\"orrange\",\"apple\"]\n",
    "calories = [100,200,300]\n",
    "days = [\"wednasday\", \"thuesday\", \"friday\"]\n"
   ]
  },
  {
   "cell_type": "code",
   "execution_count": 58,
   "id": "4b81f4a6",
   "metadata": {},
   "outputs": [],
   "source": [
    "## ZİP"
   ]
  },
  {
   "cell_type": "code",
   "execution_count": 59,
   "id": "194acf31",
   "metadata": {},
   "outputs": [
    {
     "data": {
      "text/plain": [
       "<zip at 0x25b6d2d1180>"
      ]
     },
     "execution_count": 59,
     "metadata": {},
     "output_type": "execute_result"
    }
   ],
   "source": [
    "zip(foods,calories,days)"
   ]
  },
  {
   "cell_type": "code",
   "execution_count": 60,
   "id": "c0b2bbf4",
   "metadata": {},
   "outputs": [
    {
     "data": {
      "text/plain": [
       "[('banana', 100, 'wednasday'),\n",
       " ('orrange', 200, 'thuesday'),\n",
       " ('apple', 300, 'friday')]"
      ]
     },
     "execution_count": 60,
     "metadata": {},
     "output_type": "execute_result"
    }
   ],
   "source": [
    "list(zip(foods,calories,days))"
   ]
  },
  {
   "cell_type": "code",
   "execution_count": 61,
   "id": "cfe7ddd5",
   "metadata": {},
   "outputs": [],
   "source": [
    "zipList = list(zip(foods,calories,days))"
   ]
  },
  {
   "cell_type": "code",
   "execution_count": 62,
   "id": "6557f063",
   "metadata": {},
   "outputs": [
    {
     "data": {
      "text/plain": [
       "list"
      ]
     },
     "execution_count": 62,
     "metadata": {},
     "output_type": "execute_result"
    }
   ],
   "source": [
    "type(zipList)"
   ]
  },
  {
   "cell_type": "code",
   "execution_count": 63,
   "id": "d9c801a3",
   "metadata": {},
   "outputs": [
    {
     "data": {
      "text/plain": [
       "[('banana', 100, 'wednasday'),\n",
       " ('orrange', 200, 'thuesday'),\n",
       " ('apple', 300, 'friday')]"
      ]
     },
     "execution_count": 63,
     "metadata": {},
     "output_type": "execute_result"
    }
   ],
   "source": [
    "zipList\n"
   ]
  },
  {
   "cell_type": "code",
   "execution_count": 64,
   "id": "e68d6c80",
   "metadata": {},
   "outputs": [
    {
     "data": {
      "text/plain": [
       "tuple"
      ]
     },
     "execution_count": 64,
     "metadata": {},
     "output_type": "execute_result"
    }
   ],
   "source": [
    "type(zipList[0])"
   ]
  },
  {
   "cell_type": "code",
   "execution_count": null,
   "id": "c4c4599c",
   "metadata": {},
   "outputs": [],
   "source": []
  }
 ],
 "metadata": {
  "kernelspec": {
   "display_name": "Python 3 (ipykernel)",
   "language": "python",
   "name": "python3"
  },
  "language_info": {
   "codemirror_mode": {
    "name": "ipython",
    "version": 3
   },
   "file_extension": ".py",
   "mimetype": "text/x-python",
   "name": "python",
   "nbconvert_exporter": "python",
   "pygments_lexer": "ipython3",
   "version": "3.9.13"
  }
 },
 "nbformat": 4,
 "nbformat_minor": 5
}
