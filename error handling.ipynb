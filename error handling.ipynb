{
 "cells": [
  {
   "cell_type": "markdown",
   "id": "9a621059",
   "metadata": {},
   "source": [
    "# error handling"
   ]
  },
  {
   "cell_type": "code",
   "execution_count": null,
   "id": "235e6f6a",
   "metadata": {},
   "outputs": [],
   "source": []
  },
  {
   "cell_type": "code",
   "execution_count": null,
   "id": "a7198186",
   "metadata": {},
   "outputs": [
    {
     "name": "stdout",
     "output_type": "stream",
     "text": [
      " enter first number10\n",
      "enter second number20\n",
      "enter the operation to do/\n",
      "\n",
      "10 / 20 = 0.5\n",
      " enter first number50\n",
      "enter second number2\n",
      "enter the operation to doa\n",
      "Error\n"
     ]
    }
   ],
   "source": [
    "def calcut(numb1, numb2, op):\n",
    "    \n",
    "    if op == \"+\":\n",
    "        return (\"\\n\" + str(numb1) + \" + \" + str(numb2) + \" = \" + str(numb1+numb2))\n",
    "    elif op == \"-\":\n",
    "        return (\"\\n\" + str(numb1) + \" - \" + str(numb2) + \" = \" + str(numb1-numb2))\n",
    "    elif op == \"*\":\n",
    "        return (\"\\n\" + str(numb1) + \" * \" + str(numb2) + \" = \" + str(numb1*numb2))\n",
    "    elif op == \"/\":\n",
    "        return (\"\\n\" + str(numb1) + \" / \" + str(numb2) + \" = \" + str(numb1/numb2))\n",
    "    else:\n",
    "        return (\"Error\")\n",
    "    \n",
    "\n",
    "\n",
    "while True:\n",
    "    try:\n",
    "        numberOne = input(\" enter first number\")\n",
    "        numberTwo = input(\"enter second number\")\n",
    "        operationq = input(\"enter the operation to do\")\n",
    "        a = calcut(int(numberOne), int(numberTwo), operationq)\n",
    "        print(a)\n",
    "    except:\n",
    "        print(\" !!! ErRoR!!!\\ninputs or Op must be incorrect\")\n",
    "    "
   ]
  },
  {
   "cell_type": "code",
   "execution_count": null,
   "id": "6564c9e4",
   "metadata": {},
   "outputs": [],
   "source": []
  }
 ],
 "metadata": {
  "kernelspec": {
   "display_name": "Python 3 (ipykernel)",
   "language": "python",
   "name": "python3"
  },
  "language_info": {
   "codemirror_mode": {
    "name": "ipython",
    "version": 3
   },
   "file_extension": ".py",
   "mimetype": "text/x-python",
   "name": "python",
   "nbconvert_exporter": "python",
   "pygments_lexer": "ipython3",
   "version": "3.9.13"
  }
 },
 "nbformat": 4,
 "nbformat_minor": 5
}
