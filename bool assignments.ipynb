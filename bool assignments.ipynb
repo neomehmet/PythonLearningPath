{
 "cells": [
  {
   "cell_type": "code",
   "execution_count": 2,
   "id": "5db971cf",
   "metadata": {},
   "outputs": [
    {
     "data": {
      "text/plain": [
       "bool"
      ]
     },
     "execution_count": 2,
     "metadata": {},
     "output_type": "execute_result"
    }
   ],
   "source": [
    "boolexpOne = True\n",
    "type(boolexpOne)"
   ]
  },
  {
   "cell_type": "code",
   "execution_count": 5,
   "id": "a0df6933",
   "metadata": {},
   "outputs": [
    {
     "data": {
      "text/plain": [
       "5"
      ]
     },
     "execution_count": 5,
     "metadata": {},
     "output_type": "execute_result"
    }
   ],
   "source": [
    "myList = [5,2,3,4,1]\n",
    "len(myList)"
   ]
  },
  {
   "cell_type": "code",
   "execution_count": 6,
   "id": "5f41665e",
   "metadata": {},
   "outputs": [
    {
     "data": {
      "text/plain": [
       "15"
      ]
     },
     "execution_count": 6,
     "metadata": {},
     "output_type": "execute_result"
    }
   ],
   "source": [
    "sum(myList)"
   ]
  },
  {
   "cell_type": "code",
   "execution_count": 10,
   "id": "d66f26da",
   "metadata": {},
   "outputs": [],
   "source": [
    "average = sum(myList) / len(myList)\n"
   ]
  },
  {
   "cell_type": "code",
   "execution_count": 11,
   "id": "1bd56365",
   "metadata": {},
   "outputs": [
    {
     "data": {
      "text/plain": [
       "True"
      ]
     },
     "execution_count": 11,
     "metadata": {},
     "output_type": "execute_result"
    }
   ],
   "source": [
    "average < myList[0]\n"
   ]
  },
  {
   "cell_type": "code",
   "execution_count": 12,
   "id": "ed8679e2",
   "metadata": {},
   "outputs": [
    {
     "name": "stdout",
     "output_type": "stream",
     "text": [
      "give me input11\n"
     ]
    }
   ],
   "source": [
    "varFromUser = input(\"give me input\")"
   ]
  },
  {
   "cell_type": "code",
   "execution_count": 13,
   "id": "c16ca844",
   "metadata": {},
   "outputs": [
    {
     "name": "stdout",
     "output_type": "stream",
     "text": [
      "11\n"
     ]
    }
   ],
   "source": [
    "print(varFromUser)"
   ]
  },
  {
   "cell_type": "code",
   "execution_count": 21,
   "id": "6d33c9ef",
   "metadata": {},
   "outputs": [
    {
     "data": {
      "text/plain": [
       "False"
      ]
     },
     "execution_count": 21,
     "metadata": {},
     "output_type": "execute_result"
    }
   ],
   "source": [
    "type(varFromUser)\n",
    "\n"
   ]
  },
  {
   "cell_type": "code",
   "execution_count": 23,
   "id": "d42ac35c",
   "metadata": {},
   "outputs": [],
   "source": [
    "varFromUser = int(varFromUser)\n"
   ]
  },
  {
   "cell_type": "code",
   "execution_count": 24,
   "id": "b5facc0c",
   "metadata": {},
   "outputs": [
    {
     "data": {
      "text/plain": [
       "int"
      ]
     },
     "execution_count": 24,
     "metadata": {},
     "output_type": "execute_result"
    }
   ],
   "source": [
    "type(varFromUser)"
   ]
  },
  {
   "cell_type": "code",
   "execution_count": 25,
   "id": "bd647b93",
   "metadata": {},
   "outputs": [
    {
     "data": {
      "text/plain": [
       "False"
      ]
     },
     "execution_count": 25,
     "metadata": {},
     "output_type": "execute_result"
    }
   ],
   "source": [
    "average > int(varFromUser)"
   ]
  },
  {
   "cell_type": "code",
   "execution_count": 26,
   "id": "217388fc",
   "metadata": {},
   "outputs": [
    {
     "data": {
      "text/plain": [
       "False"
      ]
     },
     "execution_count": 26,
     "metadata": {},
     "output_type": "execute_result"
    }
   ],
   "source": [
    "average == varFromUser"
   ]
  },
  {
   "cell_type": "code",
   "execution_count": 27,
   "id": "8486de3a",
   "metadata": {},
   "outputs": [],
   "source": [
    "x = 5\n",
    "y=5"
   ]
  },
  {
   "cell_type": "code",
   "execution_count": 28,
   "id": "07cc4314",
   "metadata": {},
   "outputs": [
    {
     "data": {
      "text/plain": [
       "False"
      ]
     },
     "execution_count": 28,
     "metadata": {},
     "output_type": "execute_result"
    }
   ],
   "source": [
    "x != y"
   ]
  },
  {
   "cell_type": "code",
   "execution_count": 29,
   "id": "309bac04",
   "metadata": {},
   "outputs": [
    {
     "data": {
      "text/plain": [
       "True"
      ]
     },
     "execution_count": 29,
     "metadata": {},
     "output_type": "execute_result"
    }
   ],
   "source": [
    "average != varFromUser"
   ]
  },
  {
   "cell_type": "code",
   "execution_count": 30,
   "id": "44d1b545",
   "metadata": {},
   "outputs": [
    {
     "data": {
      "text/plain": [
       "False"
      ]
     },
     "execution_count": 30,
     "metadata": {},
     "output_type": "execute_result"
    }
   ],
   "source": [
    "## and op.\n",
    "x > y and varFromUser != average"
   ]
  },
  {
   "cell_type": "code",
   "execution_count": null,
   "id": "19632825",
   "metadata": {},
   "outputs": [],
   "source": []
  }
 ],
 "metadata": {
  "kernelspec": {
   "display_name": "Python 3 (ipykernel)",
   "language": "python",
   "name": "python3"
  },
  "language_info": {
   "codemirror_mode": {
    "name": "ipython",
    "version": 3
   },
   "file_extension": ".py",
   "mimetype": "text/x-python",
   "name": "python",
   "nbconvert_exporter": "python",
   "pygments_lexer": "ipython3",
   "version": "3.9.13"
  }
 },
 "nbformat": 4,
 "nbformat_minor": 5
}
