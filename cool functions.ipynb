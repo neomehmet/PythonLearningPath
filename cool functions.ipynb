{
 "cells": [
  {
   "cell_type": "code",
   "execution_count": 1,
   "id": "e3d92846",
   "metadata": {},
   "outputs": [],
   "source": [
    "listOne = [1,2,3,4,5]\n"
   ]
  },
  {
   "cell_type": "code",
   "execution_count": 2,
   "id": "4fcd7c93",
   "metadata": {},
   "outputs": [
    {
     "data": {
      "text/plain": [
       "[1, 2, 3, 4, 5]"
      ]
     },
     "execution_count": 2,
     "metadata": {},
     "output_type": "execute_result"
    }
   ],
   "source": [
    "listOne"
   ]
  },
  {
   "cell_type": "code",
   "execution_count": 6,
   "id": "54f832a5",
   "metadata": {},
   "outputs": [],
   "source": [
    "listOne.append(11)\n",
    "def multiplyTwo( number ):\n",
    "    return number*2"
   ]
  },
  {
   "cell_type": "code",
   "execution_count": 7,
   "id": "14b4bd52",
   "metadata": {},
   "outputs": [
    {
     "data": {
      "text/plain": [
       "[2, 4, 6, 8, 10, 22, 22, 22]"
      ]
     },
     "execution_count": 7,
     "metadata": {},
     "output_type": "execute_result"
    }
   ],
   "source": [
    "listTwo = list()\n",
    "for i in listOne:\n",
    "    listTwo.append(multiplyTwo(i))\n",
    "listTwo"
   ]
  },
  {
   "cell_type": "markdown",
   "id": "435f2059",
   "metadata": {},
   "source": [
    "# map\n"
   ]
  },
  {
   "cell_type": "code",
   "execution_count": 34,
   "id": "217aeade",
   "metadata": {},
   "outputs": [
    {
     "data": {
      "text/plain": [
       "[2, 4, 6, 8, 10, 22, 22, 22]"
      ]
     },
     "execution_count": 34,
     "metadata": {},
     "output_type": "execute_result"
    }
   ],
   "source": [
    "list(map(multiplyTwo, listOne) )"
   ]
  },
  {
   "cell_type": "code",
   "execution_count": 35,
   "id": "183e6ceb",
   "metadata": {},
   "outputs": [],
   "source": [
    "# map so usefull\n"
   ]
  },
  {
   "cell_type": "code",
   "execution_count": 36,
   "id": "7f0b010e",
   "metadata": {},
   "outputs": [],
   "source": [
    "def controlFunc(string):\n",
    "    return \"a\" in string"
   ]
  },
  {
   "cell_type": "code",
   "execution_count": 37,
   "id": "3b02a9f1",
   "metadata": {},
   "outputs": [
    {
     "data": {
      "text/plain": [
       "True"
      ]
     },
     "execution_count": 37,
     "metadata": {},
     "output_type": "execute_result"
    }
   ],
   "source": [
    "\"a\" in \"constantine\""
   ]
  },
  {
   "cell_type": "code",
   "execution_count": 38,
   "id": "c6b00e2c",
   "metadata": {},
   "outputs": [
    {
     "data": {
      "text/plain": [
       "False"
      ]
     },
     "execution_count": 38,
     "metadata": {},
     "output_type": "execute_result"
    }
   ],
   "source": [
    "controlFunc(\"mehmet\")"
   ]
  },
  {
   "cell_type": "code",
   "execution_count": 39,
   "id": "871247fd",
   "metadata": {},
   "outputs": [
    {
     "data": {
      "text/plain": [
       "True"
      ]
     },
     "execution_count": 39,
     "metadata": {},
     "output_type": "execute_result"
    }
   ],
   "source": [
    "controlFunc(\"fatih\")"
   ]
  },
  {
   "cell_type": "code",
   "execution_count": 40,
   "id": "ece302c3",
   "metadata": {},
   "outputs": [],
   "source": [
    "strList = [\"abc\",\"def\", \"abcdef\",\"qwerty\",\"yuioopp\"]\n",
    "controoList = list(map(controlFunc, strList)) # do the words have the letter a funtion returns True"
   ]
  },
  {
   "cell_type": "code",
   "execution_count": 41,
   "id": "6c44bfc2",
   "metadata": {},
   "outputs": [
    {
     "data": {
      "text/plain": [
       "3"
      ]
     },
     "execution_count": 41,
     "metadata": {},
     "output_type": "execute_result"
    }
   ],
   "source": [
    "controoList.count(False)"
   ]
  },
  {
   "cell_type": "code",
   "execution_count": 42,
   "id": "6f56daa4",
   "metadata": {},
   "outputs": [
    {
     "data": {
      "text/plain": [
       "2"
      ]
     },
     "execution_count": 42,
     "metadata": {},
     "output_type": "execute_result"
    }
   ],
   "source": [
    "controoList.count(True)"
   ]
  },
  {
   "cell_type": "markdown",
   "id": "55680e94",
   "metadata": {},
   "source": [
    "# filter"
   ]
  },
  {
   "cell_type": "code",
   "execution_count": 43,
   "id": "d6028fd5",
   "metadata": {},
   "outputs": [
    {
     "data": {
      "text/plain": [
       "['abc', 'abcdef']"
      ]
     },
     "execution_count": 43,
     "metadata": {},
     "output_type": "execute_result"
    }
   ],
   "source": [
    "list(filter(controlFunc,strList))"
   ]
  },
  {
   "cell_type": "code",
   "execution_count": 44,
   "id": "00a297be",
   "metadata": {},
   "outputs": [],
   "source": [
    "# this function return elements if they contains the lettre a"
   ]
  },
  {
   "cell_type": "code",
   "execution_count": 45,
   "id": "effe900f",
   "metadata": {},
   "outputs": [],
   "source": [
    "aContain = list(filter(controlFunc,strList))"
   ]
  },
  {
   "cell_type": "code",
   "execution_count": 46,
   "id": "d1d6c0a0",
   "metadata": {},
   "outputs": [
    {
     "data": {
      "text/plain": [
       "['abc', 'abcdef']"
      ]
     },
     "execution_count": 46,
     "metadata": {},
     "output_type": "execute_result"
    }
   ],
   "source": [
    "aContain"
   ]
  },
  {
   "cell_type": "markdown",
   "id": "d793f9b7",
   "metadata": {},
   "source": [
    "# lambda"
   ]
  },
  {
   "cell_type": "code",
   "execution_count": 47,
   "id": "6b159bbd",
   "metadata": {},
   "outputs": [],
   "source": [
    "mult = lambda number : number*3"
   ]
  },
  {
   "cell_type": "code",
   "execution_count": 48,
   "id": "8ba4bd2a",
   "metadata": {},
   "outputs": [
    {
     "data": {
      "text/plain": [
       "33"
      ]
     },
     "execution_count": 48,
     "metadata": {},
     "output_type": "execute_result"
    }
   ],
   "source": [
    "mult(11)"
   ]
  },
  {
   "cell_type": "code",
   "execution_count": 49,
   "id": "6cc77df6",
   "metadata": {},
   "outputs": [],
   "source": [
    "numbList = [10,20,30]"
   ]
  },
  {
   "cell_type": "code",
   "execution_count": 50,
   "id": "d47e6da1",
   "metadata": {},
   "outputs": [
    {
     "data": {
      "text/plain": [
       "[30, 60, 90]"
      ]
     },
     "execution_count": 50,
     "metadata": {},
     "output_type": "execute_result"
    }
   ],
   "source": [
    "list(map(lambda number : number*3, numbList ))"
   ]
  },
  {
   "cell_type": "code",
   "execution_count": null,
   "id": "94abf15c",
   "metadata": {},
   "outputs": [],
   "source": []
  }
 ],
 "metadata": {
  "kernelspec": {
   "display_name": "Python 3 (ipykernel)",
   "language": "python",
   "name": "python3"
  },
  "language_info": {
   "codemirror_mode": {
    "name": "ipython",
    "version": 3
   },
   "file_extension": ".py",
   "mimetype": "text/x-python",
   "name": "python",
   "nbconvert_exporter": "python",
   "pygments_lexer": "ipython3",
   "version": "3.9.13"
  }
 },
 "nbformat": 4,
 "nbformat_minor": 5
}
