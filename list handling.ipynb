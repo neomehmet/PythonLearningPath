{
 "cells": [
  {
   "cell_type": "code",
   "execution_count": 10,
   "id": "fc1c894d",
   "metadata": {},
   "outputs": [],
   "source": [
    "firstList = []\n",
    "myString = \"mehmet kose gtu\"\n",
    "\n",
    "for i in myString:\n",
    "    firstList.append(i)"
   ]
  },
  {
   "cell_type": "code",
   "execution_count": 11,
   "id": "54d2f33f",
   "metadata": {},
   "outputs": [
    {
     "data": {
      "text/plain": [
       "['m', 'e', 'h', 'm', 'e', 't', ' ', 'k', 'o', 's', 'e', ' ', 'g', 't', 'u']"
      ]
     },
     "execution_count": 11,
     "metadata": {},
     "output_type": "execute_result"
    }
   ],
   "source": [
    "firstList"
   ]
  },
  {
   "cell_type": "code",
   "execution_count": 12,
   "id": "be563879",
   "metadata": {},
   "outputs": [],
   "source": [
    "# here  short cut\n"
   ]
  },
  {
   "cell_type": "code",
   "execution_count": 13,
   "id": "1f483310",
   "metadata": {},
   "outputs": [],
   "source": [
    "secondList = [ i for i in myString]"
   ]
  },
  {
   "cell_type": "code",
   "execution_count": 14,
   "id": "287bc31c",
   "metadata": {},
   "outputs": [
    {
     "data": {
      "text/plain": [
       "['m', 'e', 'h', 'm', 'e', 't', ' ', 'k', 'o', 's', 'e', ' ', 'g', 't', 'u']"
      ]
     },
     "execution_count": 14,
     "metadata": {},
     "output_type": "execute_result"
    }
   ],
   "source": [
    "secondList"
   ]
  },
  {
   "cell_type": "code",
   "execution_count": 19,
   "id": "67b3762b",
   "metadata": {},
   "outputs": [
    {
     "data": {
      "text/plain": [
       "[0, 1, 4, 9, 16, 25, 36, 49, 64, 81]"
      ]
     },
     "execution_count": 19,
     "metadata": {},
     "output_type": "execute_result"
    }
   ],
   "source": [
    "thirdList = [ i*i for i in list(range(0,10,))]\n",
    "thirdList"
   ]
  },
  {
   "cell_type": "code",
   "execution_count": null,
   "id": "6cbc3b4c",
   "metadata": {},
   "outputs": [],
   "source": []
  }
 ],
 "metadata": {
  "kernelspec": {
   "display_name": "Python 3 (ipykernel)",
   "language": "python",
   "name": "python3"
  },
  "language_info": {
   "codemirror_mode": {
    "name": "ipython",
    "version": 3
   },
   "file_extension": ".py",
   "mimetype": "text/x-python",
   "name": "python",
   "nbconvert_exporter": "python",
   "pygments_lexer": "ipython3",
   "version": "3.9.13"
  }
 },
 "nbformat": 4,
 "nbformat_minor": 5
}
